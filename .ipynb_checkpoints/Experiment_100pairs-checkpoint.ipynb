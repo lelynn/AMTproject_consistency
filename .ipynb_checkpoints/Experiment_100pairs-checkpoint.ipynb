{
 "cells": [
  {
   "cell_type": "code",
   "execution_count": 2,
   "metadata": {},
   "outputs": [],
   "source": [
    "import pandas as pd\n",
    "import cv2\n",
    "import numpy as np\n",
    "import os "
   ]
  },
  {
   "cell_type": "code",
   "execution_count": 3,
   "metadata": {},
   "outputs": [],
   "source": [
    "paired_videolist = pd.read_csv('DF100.csv')\n",
    "paired_videolist = paired_videolist[['videoLeft', 'videoRight']]"
   ]
  },
  {
   "cell_type": "code",
   "execution_count": 14,
   "metadata": {},
   "outputs": [],
   "source": [
    "#pair[0] is videoLeft\n",
    "#pair[1] is videoRight \n",
    "\n",
    "\n",
    "video_map = 'videos/'\n",
    "\n",
    "#Now I have the paired videolist, I want to select them from the folder containing hte videos and present it next to eachother on the screen.\n",
    "\n",
    "# videofiles = 'videos/vMtF0akNUK4.002.mp4','videos/0G2o3fik36I.000.mp4'"
   ]
  },
  {
   "cell_type": "code",
   "execution_count": null,
   "metadata": {},
   "outputs": [],
   "source": [
    "for i in range(len(paired_videolist)):\n",
    "    \n",
    "    pair = paired_videolist.iloc[i]\n",
    "    \n",
    "    videoLeft = pair[0]\n",
    "    videoRight = pair[1]\n",
    "    \n",
    "    capture = cv2.VideoCapture('videos/'+ videoLeft)\n",
    "    capture1 = cv2.VideoCapture('videos/'+ videoRight)\n",
    "\n",
    "    while True:\n",
    "        _, frame1 = capture.read()\n",
    "        _, frame2 = capture1.read()\n",
    "        \n",
    "        if type(frame1) != np.ndarray or type(frame2) != np.ndarray:\n",
    "            break\n",
    "        else:\n",
    "            frames = np.concatenate((frame1, frame2), axis = 1)\n",
    "\n",
    "        cv2.namedWindow(\"window\", cv2.WND_PROP_FULLSCREEN)\n",
    "        cv2.setWindowProperty(\"window\",cv2.WND_PROP_FULLSCREEN,cv2.WINDOW_FULLSCREEN)\n",
    "        cv2.imshow(\"window\", frames)\n",
    "        #cv2.imshow(\"frame2\",frame2)\n",
    "        if cv2.waitKey(1) & 0xFF == ord('q'):\n",
    "            break\n",
    "            \n",
    "    capture1.release()\n",
    "    capture.release()\n",
    "    cv2.destroyAllWindows()"
   ]
  },
  {
   "cell_type": "code",
   "execution_count": 40,
   "metadata": {},
   "outputs": [
    {
     "data": {
      "text/plain": [
       "True"
      ]
     },
     "execution_count": 40,
     "metadata": {},
     "output_type": "execute_result"
    }
   ],
   "source": [
    "type(frame1) != np.ndarray\n"
   ]
  },
  {
   "cell_type": "code",
   "execution_count": 41,
   "metadata": {},
   "outputs": [
    {
     "data": {
      "text/plain": [
       "False"
      ]
     },
     "execution_count": 41,
     "metadata": {},
     "output_type": "execute_result"
    }
   ],
   "source": [
    "type(frame2) != np.ndarray"
   ]
  },
  {
   "cell_type": "code",
   "execution_count": null,
   "metadata": {},
   "outputs": [],
   "source": []
  }
 ],
 "metadata": {
  "kernelspec": {
   "display_name": "Python 2",
   "language": "python",
   "name": "python2"
  },
  "language_info": {
   "codemirror_mode": {
    "name": "ipython",
    "version": 2
   },
   "file_extension": ".py",
   "mimetype": "text/x-python",
   "name": "python",
   "nbconvert_exporter": "python",
   "pygments_lexer": "ipython2",
   "version": "2.7.15"
  }
 },
 "nbformat": 4,
 "nbformat_minor": 2
}
