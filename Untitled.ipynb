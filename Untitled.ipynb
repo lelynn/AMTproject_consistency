{
 "cells": [
  {
   "cell_type": "code",
   "execution_count": 7,
   "metadata": {},
   "outputs": [
    {
     "name": "stdout",
     "output_type": "stream",
     "text": [
      "pygame 1.9.4\n",
      "Hello from the pygame community. https://www.pygame.org/contribute.html\n"
     ]
    }
   ],
   "source": [
    "import moviepy\n",
    "import moviepy.editor as mpy\n",
    "from moviepy.editor import *\n",
    "import pandas as pd\n",
    "import os"
   ]
  },
  {
   "cell_type": "code",
   "execution_count": 14,
   "metadata": {},
   "outputs": [],
   "source": [
    "import subprocess\n",
    " \n",
    "cmd = ['xrandr']\n",
    "cmd2 = ['grep', '*']\n",
    "p = subprocess.Popen(cmd, stdout=subprocess.PIPE)\n",
    "p2 = subprocess.Popen(cmd2, stdin=p.stdout, stdout=subprocess.PIPE)\n",
    "p.stdout.close()\n",
    " \n",
    "resolution_string, junk = p2.communicate()\n",
    "resolution = resolution_string.split()[0]\n",
    "screen_width, screen_height = resolution.split('x')\n",
    "\n"
   ]
  },
  {
   "cell_type": "code",
   "execution_count": 17,
   "metadata": {},
   "outputs": [],
   "source": [
    "screen_width = int(screen_width)\n",
    "screen_height = int(screen_height)"
   ]
  },
  {
   "cell_type": "code",
   "execution_count": 18,
   "metadata": {},
   "outputs": [],
   "source": [
    "video_map = 'videos/'\n",
    "# video_map = \"/Users/lynn/Desktop/AMT Research assistantship/AMT_results/AMTproject_consistency/videos/\"\n",
    "paired_videolist = pd.read_csv('DF100.csv')\n",
    "paired_videolist = paired_videolist[['videoLeft', 'videoRight']]\n",
    "\n",
    "def select_pairs():\n",
    "    try: \n",
    "        os.makedirs('videoPairs')\n",
    "    except OSError:\n",
    "        if not os.path.isdir('videoPairs'):\n",
    "            rais\n",
    "    \n",
    "    for i in range(len(paired_videolist)):\n",
    "\n",
    "        pair = paired_videolist.iloc[i]\n",
    "\n",
    "        videoLeft = pair['videoLeft']\n",
    "        videoRight = pair['videoRight']\n",
    "        \n",
    "        final_clip = create_pairs(videoLeft, videoRight)\n",
    "\n",
    "        final_clip.write_videofile('videoPairs/pair{}.mp4'.format(i))\n",
    "        \n",
    "    return videoLeft, videoRight\n"
   ]
  },
  {
   "cell_type": "code",
   "execution_count": 19,
   "metadata": {},
   "outputs": [],
   "source": [
    "def create_pairs(videoLeft, videoRight):\n",
    "    clipLeft_position = (\"left\",\"center\")\n",
    "\n",
    "    clipRight_position = (\"right\",\"center\")\n",
    "\n",
    "\n",
    "\n",
    "    # clipLeft_position = ((screen_width/2)-(clipLeft.size/2),\n",
    "    #                      (screen_height/2)-(clipLeft.size/2))\n",
    "\n",
    "    # clipRight_position = ((screen_width/2) -(clipLeft.size/2),\n",
    "    #                       (screen_height/2)-(clipRight.size/2))\n",
    "\n",
    "\n",
    "    clipLeft = VideoFileClip(video_map + videoLeft).resize(width = screen_width/2.05 )\n",
    "    clipRight = VideoFileClip(video_map + videoRight).resize(width = screen_width/2.05 )\n",
    "\n",
    "    final_clip = CompositeVideoClip([clipLeft.set_pos(clipLeft_position), \n",
    "                                                      clipRight.set_pos(clipRight_position)], \n",
    "                                                      size = (screen_width, screen_height))\n",
    "    \n",
    "    return final_clip\n",
    "    "
   ]
  },
  {
   "cell_type": "code",
   "execution_count": 22,
   "metadata": {},
   "outputs": [],
   "source": [
    "DF100 = pd.read_csv('DF100.csv')\n",
    "DF100['videoPair'] = ['videoPairs/pair{}.mp4'.format(x) for x in range(len(paired_videolist))]\n",
    "\n",
    "DF100.to_csv('DF100.csv')"
   ]
  },
  {
   "cell_type": "code",
   "execution_count": 20,
   "metadata": {},
   "outputs": [
    {
     "name": "stdout",
     "output_type": "stream",
     "text": [
      "[MoviePy] >>>> Building video videoPairs/pair0.mp4\n",
      "[MoviePy] Writing audio in pair0TEMP_MPY_wvf_snd.mp3\n"
     ]
    },
    {
     "name": "stderr",
     "output_type": "stream",
     "text": [
      "100%|██████████| 338/338 [00:01<00:00, 204.22it/s]"
     ]
    },
    {
     "name": "stdout",
     "output_type": "stream",
     "text": [
      "[MoviePy] Done.\n",
      "[MoviePy] Writing video videoPairs/pair0.mp4\n"
     ]
    },
    {
     "name": "stderr",
     "output_type": "stream",
     "text": [
      "\n",
      "100%|██████████| 460/460 [00:40<00:00, 12.39it/s]\n"
     ]
    },
    {
     "name": "stdout",
     "output_type": "stream",
     "text": [
      "[MoviePy] Done.\n",
      "[MoviePy] >>>> Video ready: videoPairs/pair0.mp4 \n",
      "\n",
      "[MoviePy] >>>> Building video videoPairs/pair1.mp4\n",
      "[MoviePy] Writing audio in pair1TEMP_MPY_wvf_snd.mp3\n"
     ]
    },
    {
     "name": "stderr",
     "output_type": "stream",
     "text": [
      "100%|██████████| 338/338 [00:01<00:00, 203.13it/s]"
     ]
    },
    {
     "name": "stdout",
     "output_type": "stream",
     "text": [
      "[MoviePy] Done.\n",
      "[MoviePy] Writing video videoPairs/pair1.mp4\n"
     ]
    },
    {
     "name": "stderr",
     "output_type": "stream",
     "text": [
      "\n",
      "100%|██████████| 460/460 [00:49<00:00,  9.37it/s]\n"
     ]
    },
    {
     "name": "stdout",
     "output_type": "stream",
     "text": [
      "[MoviePy] Done.\n",
      "[MoviePy] >>>> Video ready: videoPairs/pair1.mp4 \n",
      "\n",
      "[MoviePy] >>>> Building video videoPairs/pair2.mp4\n",
      "[MoviePy] Writing audio in pair2TEMP_MPY_wvf_snd.mp3\n"
     ]
    },
    {
     "name": "stderr",
     "output_type": "stream",
     "text": [
      "100%|██████████| 338/338 [00:01<00:00, 210.02it/s]"
     ]
    },
    {
     "name": "stdout",
     "output_type": "stream",
     "text": [
      "[MoviePy] Done.\n",
      "[MoviePy] Writing video videoPairs/pair2.mp4\n"
     ]
    },
    {
     "name": "stderr",
     "output_type": "stream",
     "text": [
      "\n",
      "100%|█████████▉| 383/384 [00:33<00:00, 11.89it/s]\n"
     ]
    },
    {
     "name": "stdout",
     "output_type": "stream",
     "text": [
      "[MoviePy] Done.\n",
      "[MoviePy] >>>> Video ready: videoPairs/pair2.mp4 \n",
      "\n",
      "[MoviePy] >>>> Building video videoPairs/pair3.mp4\n",
      "[MoviePy] Writing audio in pair3TEMP_MPY_wvf_snd.mp3\n"
     ]
    },
    {
     "name": "stderr",
     "output_type": "stream",
     "text": [
      "100%|██████████| 338/338 [00:02<00:00, 158.45it/s]"
     ]
    },
    {
     "name": "stdout",
     "output_type": "stream",
     "text": [
      "[MoviePy] Done.\n",
      "[MoviePy] Writing video videoPairs/pair3.mp4\n"
     ]
    },
    {
     "name": "stderr",
     "output_type": "stream",
     "text": [
      "\n",
      "100%|██████████| 460/460 [00:46<00:00,  9.39it/s]\n"
     ]
    },
    {
     "name": "stdout",
     "output_type": "stream",
     "text": [
      "[MoviePy] Done.\n",
      "[MoviePy] >>>> Video ready: videoPairs/pair3.mp4 \n",
      "\n",
      "[MoviePy] >>>> Building video videoPairs/pair4.mp4\n",
      "[MoviePy] Writing audio in pair4TEMP_MPY_wvf_snd.mp3\n"
     ]
    },
    {
     "name": "stderr",
     "output_type": "stream",
     "text": [
      "100%|██████████| 338/338 [00:01<00:00, 226.82it/s]\n"
     ]
    },
    {
     "name": "stdout",
     "output_type": "stream",
     "text": [
      "[MoviePy] Done.\n",
      "[MoviePy] Writing video videoPairs/pair4.mp4\n"
     ]
    },
    {
     "name": "stderr",
     "output_type": "stream",
     "text": [
      "100%|██████████| 460/460 [00:43<00:00, 11.20it/s]\n"
     ]
    },
    {
     "name": "stdout",
     "output_type": "stream",
     "text": [
      "[MoviePy] Done.\n",
      "[MoviePy] >>>> Video ready: videoPairs/pair4.mp4 \n",
      "\n",
      "[MoviePy] >>>> Building video videoPairs/pair5.mp4\n",
      "[MoviePy] Writing audio in pair5TEMP_MPY_wvf_snd.mp3\n"
     ]
    },
    {
     "name": "stderr",
     "output_type": "stream",
     "text": [
      "100%|██████████| 338/338 [00:01<00:00, 192.18it/s]"
     ]
    },
    {
     "name": "stdout",
     "output_type": "stream",
     "text": [
      "[MoviePy] Done.\n",
      "[MoviePy] Writing video videoPairs/pair5.mp4\n"
     ]
    },
    {
     "name": "stderr",
     "output_type": "stream",
     "text": [
      "\n",
      "100%|██████████| 460/460 [00:46<00:00, 11.10it/s]\n"
     ]
    },
    {
     "name": "stdout",
     "output_type": "stream",
     "text": [
      "[MoviePy] Done.\n",
      "[MoviePy] >>>> Video ready: videoPairs/pair5.mp4 \n",
      "\n",
      "[MoviePy] >>>> Building video videoPairs/pair6.mp4\n",
      "[MoviePy] Writing audio in pair6TEMP_MPY_wvf_snd.mp3\n"
     ]
    },
    {
     "name": "stderr",
     "output_type": "stream",
     "text": [
      "100%|██████████| 338/338 [00:01<00:00, 191.02it/s]"
     ]
    },
    {
     "name": "stdout",
     "output_type": "stream",
     "text": [
      "[MoviePy] Done.\n",
      "[MoviePy] Writing video videoPairs/pair6.mp4\n"
     ]
    },
    {
     "name": "stderr",
     "output_type": "stream",
     "text": [
      "\n",
      "100%|██████████| 460/460 [00:42<00:00, 10.81it/s]\n"
     ]
    },
    {
     "name": "stdout",
     "output_type": "stream",
     "text": [
      "[MoviePy] Done.\n",
      "[MoviePy] >>>> Video ready: videoPairs/pair6.mp4 \n",
      "\n",
      "[MoviePy] >>>> Building video videoPairs/pair7.mp4\n",
      "[MoviePy] Writing audio in pair7TEMP_MPY_wvf_snd.mp3\n"
     ]
    },
    {
     "name": "stderr",
     "output_type": "stream",
     "text": [
      "100%|██████████| 339/339 [00:02<00:00, 168.30it/s]"
     ]
    },
    {
     "name": "stdout",
     "output_type": "stream",
     "text": [
      "[MoviePy] Done.\n",
      "[MoviePy] Writing video videoPairs/pair7.mp4\n"
     ]
    },
    {
     "name": "stderr",
     "output_type": "stream",
     "text": [
      "\n",
      "100%|██████████| 460/460 [00:41<00:00, 11.13it/s]\n"
     ]
    },
    {
     "name": "stdout",
     "output_type": "stream",
     "text": [
      "[MoviePy] Done.\n",
      "[MoviePy] >>>> Video ready: videoPairs/pair7.mp4 \n",
      "\n",
      "[MoviePy] >>>> Building video videoPairs/pair8.mp4\n",
      "[MoviePy] Writing audio in pair8TEMP_MPY_wvf_snd.mp3\n"
     ]
    },
    {
     "name": "stderr",
     "output_type": "stream",
     "text": [
      "100%|██████████| 338/338 [00:02<00:00, 157.77it/s]"
     ]
    },
    {
     "name": "stdout",
     "output_type": "stream",
     "text": [
      "[MoviePy] Done.\n",
      "[MoviePy] Writing video videoPairs/pair8.mp4\n"
     ]
    },
    {
     "name": "stderr",
     "output_type": "stream",
     "text": [
      "\n",
      "100%|██████████| 460/460 [00:46<00:00,  8.38it/s]\n"
     ]
    },
    {
     "name": "stdout",
     "output_type": "stream",
     "text": [
      "[MoviePy] Done.\n",
      "[MoviePy] >>>> Video ready: videoPairs/pair8.mp4 \n",
      "\n",
      "[MoviePy] >>>> Building video videoPairs/pair9.mp4\n",
      "[MoviePy] Writing audio in pair9TEMP_MPY_wvf_snd.mp3\n"
     ]
    },
    {
     "name": "stderr",
     "output_type": "stream",
     "text": [
      "100%|██████████| 338/338 [00:02<00:00, 146.00it/s]"
     ]
    },
    {
     "name": "stdout",
     "output_type": "stream",
     "text": [
      "[MoviePy] Done.\n",
      "[MoviePy] Writing video videoPairs/pair9.mp4\n"
     ]
    },
    {
     "name": "stderr",
     "output_type": "stream",
     "text": [
      "\n",
      "100%|██████████| 460/460 [00:48<00:00, 10.12it/s]\n"
     ]
    },
    {
     "name": "stdout",
     "output_type": "stream",
     "text": [
      "[MoviePy] Done.\n",
      "[MoviePy] >>>> Video ready: videoPairs/pair9.mp4 \n",
      "\n",
      "[MoviePy] >>>> Building video videoPairs/pair10.mp4\n",
      "[MoviePy] Writing audio in pair10TEMP_MPY_wvf_snd.mp3\n"
     ]
    },
    {
     "name": "stderr",
     "output_type": "stream",
     "text": [
      "100%|██████████| 338/338 [00:01<00:00, 193.49it/s]"
     ]
    },
    {
     "name": "stdout",
     "output_type": "stream",
     "text": [
      "[MoviePy] Done.\n",
      "[MoviePy] Writing video videoPairs/pair10.mp4\n"
     ]
    },
    {
     "name": "stderr",
     "output_type": "stream",
     "text": [
      "\n",
      "100%|█████████▉| 383/384 [00:38<00:00,  7.89it/s]\n"
     ]
    },
    {
     "name": "stdout",
     "output_type": "stream",
     "text": [
      "[MoviePy] Done.\n",
      "[MoviePy] >>>> Video ready: videoPairs/pair10.mp4 \n",
      "\n",
      "[MoviePy] >>>> Building video videoPairs/pair11.mp4\n",
      "[MoviePy] Writing audio in pair11TEMP_MPY_wvf_snd.mp3\n"
     ]
    },
    {
     "name": "stderr",
     "output_type": "stream",
     "text": [
      "100%|██████████| 338/338 [00:02<00:00, 151.05it/s]"
     ]
    },
    {
     "name": "stdout",
     "output_type": "stream",
     "text": [
      "[MoviePy] Done.\n",
      "[MoviePy] Writing video videoPairs/pair11.mp4\n"
     ]
    },
    {
     "name": "stderr",
     "output_type": "stream",
     "text": [
      "\n",
      "100%|██████████| 460/460 [00:59<00:00,  7.73it/s]\n"
     ]
    },
    {
     "name": "stdout",
     "output_type": "stream",
     "text": [
      "[MoviePy] Done.\n",
      "[MoviePy] >>>> Video ready: videoPairs/pair11.mp4 \n",
      "\n",
      "[MoviePy] >>>> Building video videoPairs/pair12.mp4\n",
      "[MoviePy] Writing audio in pair12TEMP_MPY_wvf_snd.mp3\n"
     ]
    },
    {
     "name": "stderr",
     "output_type": "stream",
     "text": [
      "100%|██████████| 338/338 [00:02<00:00, 140.90it/s]"
     ]
    },
    {
     "name": "stdout",
     "output_type": "stream",
     "text": [
      "[MoviePy] Done.\n",
      "[MoviePy] Writing video videoPairs/pair12.mp4\n"
     ]
    },
    {
     "name": "stderr",
     "output_type": "stream",
     "text": [
      "\n",
      "100%|██████████| 460/460 [00:46<00:00,  9.92it/s]\n"
     ]
    },
    {
     "name": "stdout",
     "output_type": "stream",
     "text": [
      "[MoviePy] Done.\n",
      "[MoviePy] >>>> Video ready: videoPairs/pair12.mp4 \n",
      "\n",
      "[MoviePy] >>>> Building video videoPairs/pair13.mp4\n",
      "[MoviePy] Writing audio in pair13TEMP_MPY_wvf_snd.mp3\n"
     ]
    },
    {
     "name": "stderr",
     "output_type": "stream",
     "text": [
      "100%|██████████| 338/338 [00:01<00:00, 170.35it/s]"
     ]
    },
    {
     "name": "stdout",
     "output_type": "stream",
     "text": [
      "[MoviePy] Done.\n",
      "[MoviePy] Writing video videoPairs/pair13.mp4\n"
     ]
    },
    {
     "name": "stderr",
     "output_type": "stream",
     "text": [
      "\n",
      "100%|██████████| 460/460 [00:41<00:00, 11.30it/s]\n"
     ]
    },
    {
     "name": "stdout",
     "output_type": "stream",
     "text": [
      "[MoviePy] Done.\n",
      "[MoviePy] >>>> Video ready: videoPairs/pair13.mp4 \n",
      "\n",
      "[MoviePy] >>>> Building video videoPairs/pair14.mp4\n",
      "[MoviePy] Writing audio in pair14TEMP_MPY_wvf_snd.mp3\n"
     ]
    },
    {
     "name": "stderr",
     "output_type": "stream",
     "text": [
      "100%|██████████| 338/338 [00:01<00:00, 172.04it/s]"
     ]
    },
    {
     "name": "stdout",
     "output_type": "stream",
     "text": [
      "[MoviePy] Done.\n",
      "[MoviePy] Writing video videoPairs/pair14.mp4\n"
     ]
    },
    {
     "name": "stderr",
     "output_type": "stream",
     "text": [
      "\n",
      "100%|██████████| 460/460 [00:50<00:00,  7.75it/s]\n"
     ]
    },
    {
     "name": "stdout",
     "output_type": "stream",
     "text": [
      "[MoviePy] Done.\n",
      "[MoviePy] >>>> Video ready: videoPairs/pair14.mp4 \n",
      "\n",
      "[MoviePy] >>>> Building video videoPairs/pair15.mp4\n",
      "[MoviePy] Writing audio in pair15TEMP_MPY_wvf_snd.mp3\n"
     ]
    },
    {
     "name": "stderr",
     "output_type": "stream",
     "text": [
      "100%|██████████| 338/338 [00:04<00:00, 79.72it/s]\n"
     ]
    },
    {
     "name": "stdout",
     "output_type": "stream",
     "text": [
      "[MoviePy] Done.\n",
      "[MoviePy] Writing video videoPairs/pair15.mp4\n"
     ]
    },
    {
     "name": "stderr",
     "output_type": "stream",
     "text": [
      "100%|██████████| 460/460 [00:41<00:00, 13.01it/s]\n"
     ]
    },
    {
     "name": "stdout",
     "output_type": "stream",
     "text": [
      "[MoviePy] Done.\n",
      "[MoviePy] >>>> Video ready: videoPairs/pair15.mp4 \n",
      "\n",
      "[MoviePy] >>>> Building video videoPairs/pair16.mp4\n",
      "[MoviePy] Writing audio in pair16TEMP_MPY_wvf_snd.mp3\n"
     ]
    },
    {
     "name": "stderr",
     "output_type": "stream",
     "text": [
      "100%|██████████| 338/338 [00:01<00:00, 181.00it/s]"
     ]
    },
    {
     "name": "stdout",
     "output_type": "stream",
     "text": [
      "[MoviePy] Done.\n",
      "[MoviePy] Writing video videoPairs/pair16.mp4\n"
     ]
    },
    {
     "name": "stderr",
     "output_type": "stream",
     "text": [
      "\n",
      "100%|██████████| 460/460 [00:37<00:00, 11.16it/s]\n"
     ]
    },
    {
     "name": "stdout",
     "output_type": "stream",
     "text": [
      "[MoviePy] Done.\n",
      "[MoviePy] >>>> Video ready: videoPairs/pair16.mp4 \n",
      "\n",
      "[MoviePy] >>>> Building video videoPairs/pair17.mp4\n",
      "[MoviePy] Writing audio in pair17TEMP_MPY_wvf_snd.mp3\n"
     ]
    },
    {
     "name": "stderr",
     "output_type": "stream",
     "text": [
      "100%|██████████| 338/338 [00:01<00:00, 219.78it/s]"
     ]
    },
    {
     "name": "stdout",
     "output_type": "stream",
     "text": [
      "[MoviePy] Done.\n",
      "[MoviePy] Writing video videoPairs/pair17.mp4\n"
     ]
    },
    {
     "name": "stderr",
     "output_type": "stream",
     "text": [
      "\n",
      "100%|██████████| 460/460 [00:37<00:00, 12.26it/s]\n"
     ]
    },
    {
     "name": "stdout",
     "output_type": "stream",
     "text": [
      "[MoviePy] Done.\n",
      "[MoviePy] >>>> Video ready: videoPairs/pair17.mp4 \n",
      "\n",
      "[MoviePy] >>>> Building video videoPairs/pair18.mp4\n",
      "[MoviePy] Writing audio in pair18TEMP_MPY_wvf_snd.mp3\n"
     ]
    },
    {
     "name": "stderr",
     "output_type": "stream",
     "text": [
      "100%|██████████| 338/338 [00:01<00:00, 192.73it/s]"
     ]
    },
    {
     "name": "stdout",
     "output_type": "stream",
     "text": [
      "[MoviePy] Done.\n",
      "[MoviePy] Writing video videoPairs/pair18.mp4\n"
     ]
    },
    {
     "name": "stderr",
     "output_type": "stream",
     "text": [
      "\n",
      "100%|██████████| 460/460 [00:36<00:00, 13.45it/s]\n"
     ]
    },
    {
     "name": "stdout",
     "output_type": "stream",
     "text": [
      "[MoviePy] Done.\n",
      "[MoviePy] >>>> Video ready: videoPairs/pair18.mp4 \n",
      "\n",
      "[MoviePy] >>>> Building video videoPairs/pair19.mp4\n",
      "[MoviePy] Writing audio in pair19TEMP_MPY_wvf_snd.mp3\n"
     ]
    },
    {
     "name": "stderr",
     "output_type": "stream",
     "text": [
      "100%|██████████| 338/338 [00:01<00:00, 235.28it/s]"
     ]
    },
    {
     "name": "stdout",
     "output_type": "stream",
     "text": [
      "[MoviePy] Done.\n",
      "[MoviePy] Writing video videoPairs/pair19.mp4\n"
     ]
    },
    {
     "name": "stderr",
     "output_type": "stream",
     "text": [
      "\n",
      "100%|██████████| 460/460 [00:36<00:00, 12.61it/s]\n"
     ]
    },
    {
     "name": "stdout",
     "output_type": "stream",
     "text": [
      "[MoviePy] Done.\n",
      "[MoviePy] >>>> Video ready: videoPairs/pair19.mp4 \n",
      "\n",
      "[MoviePy] >>>> Building video videoPairs/pair20.mp4\n",
      "[MoviePy] Writing audio in pair20TEMP_MPY_wvf_snd.mp3\n"
     ]
    },
    {
     "name": "stderr",
     "output_type": "stream",
     "text": [
      "100%|██████████| 338/338 [00:01<00:00, 198.66it/s]"
     ]
    },
    {
     "name": "stdout",
     "output_type": "stream",
     "text": [
      "[MoviePy] Done.\n",
      "[MoviePy] Writing video videoPairs/pair20.mp4\n"
     ]
    },
    {
     "name": "stderr",
     "output_type": "stream",
     "text": [
      "\n",
      "100%|██████████| 460/460 [00:36<00:00, 13.32it/s]\n"
     ]
    },
    {
     "name": "stdout",
     "output_type": "stream",
     "text": [
      "[MoviePy] Done.\n",
      "[MoviePy] >>>> Video ready: videoPairs/pair20.mp4 \n",
      "\n",
      "[MoviePy] >>>> Building video videoPairs/pair21.mp4\n",
      "[MoviePy] Writing audio in pair21TEMP_MPY_wvf_snd.mp3\n"
     ]
    },
    {
     "name": "stderr",
     "output_type": "stream",
     "text": [
      "100%|██████████| 338/338 [00:01<00:00, 272.26it/s]\n"
     ]
    },
    {
     "name": "stdout",
     "output_type": "stream",
     "text": [
      "[MoviePy] Done.\n",
      "[MoviePy] Writing video videoPairs/pair21.mp4\n"
     ]
    },
    {
     "name": "stderr",
     "output_type": "stream",
     "text": [
      "100%|██████████| 460/460 [00:38<00:00, 12.46it/s]\n"
     ]
    },
    {
     "name": "stdout",
     "output_type": "stream",
     "text": [
      "[MoviePy] Done.\n",
      "[MoviePy] >>>> Video ready: videoPairs/pair21.mp4 \n",
      "\n",
      "[MoviePy] >>>> Building video videoPairs/pair22.mp4\n",
      "[MoviePy] Writing audio in pair22TEMP_MPY_wvf_snd.mp3\n"
     ]
    },
    {
     "name": "stderr",
     "output_type": "stream",
     "text": [
      "100%|██████████| 338/338 [00:01<00:00, 192.97it/s]"
     ]
    },
    {
     "name": "stdout",
     "output_type": "stream",
     "text": [
      "[MoviePy] Done.\n"
     ]
    },
    {
     "name": "stderr",
     "output_type": "stream",
     "text": [
      "\n"
     ]
    },
    {
     "name": "stdout",
     "output_type": "stream",
     "text": [
      "[MoviePy] Writing video videoPairs/pair22.mp4\n"
     ]
    },
    {
     "name": "stderr",
     "output_type": "stream",
     "text": [
      "100%|██████████| 460/460 [00:35<00:00, 13.31it/s]\n"
     ]
    },
    {
     "name": "stdout",
     "output_type": "stream",
     "text": [
      "[MoviePy] Done.\n",
      "[MoviePy] >>>> Video ready: videoPairs/pair22.mp4 \n",
      "\n",
      "[MoviePy] >>>> Building video videoPairs/pair23.mp4\n",
      "[MoviePy] Writing audio in pair23TEMP_MPY_wvf_snd.mp3\n"
     ]
    },
    {
     "name": "stderr",
     "output_type": "stream",
     "text": [
      "100%|██████████| 338/338 [00:01<00:00, 211.04it/s]"
     ]
    },
    {
     "name": "stdout",
     "output_type": "stream",
     "text": [
      "[MoviePy] Done.\n",
      "[MoviePy] Writing video videoPairs/pair23.mp4\n"
     ]
    },
    {
     "name": "stderr",
     "output_type": "stream",
     "text": [
      "\n",
      "100%|██████████| 460/460 [00:38<00:00, 12.83it/s]\n"
     ]
    },
    {
     "name": "stdout",
     "output_type": "stream",
     "text": [
      "[MoviePy] Done.\n",
      "[MoviePy] >>>> Video ready: videoPairs/pair23.mp4 \n",
      "\n",
      "[MoviePy] >>>> Building video videoPairs/pair24.mp4\n",
      "[MoviePy] Writing audio in pair24TEMP_MPY_wvf_snd.mp3\n"
     ]
    },
    {
     "name": "stderr",
     "output_type": "stream",
     "text": [
      "100%|██████████| 338/338 [00:01<00:00, 192.53it/s]"
     ]
    },
    {
     "name": "stdout",
     "output_type": "stream",
     "text": [
      "[MoviePy] Done.\n",
      "[MoviePy] Writing video videoPairs/pair24.mp4\n"
     ]
    },
    {
     "name": "stderr",
     "output_type": "stream",
     "text": [
      "\n",
      "100%|██████████| 460/460 [00:37<00:00, 12.88it/s]\n"
     ]
    },
    {
     "name": "stdout",
     "output_type": "stream",
     "text": [
      "[MoviePy] Done.\n",
      "[MoviePy] >>>> Video ready: videoPairs/pair24.mp4 \n",
      "\n",
      "[MoviePy] >>>> Building video videoPairs/pair25.mp4\n",
      "[MoviePy] Writing audio in pair25TEMP_MPY_wvf_snd.mp3\n"
     ]
    },
    {
     "name": "stderr",
     "output_type": "stream",
     "text": [
      "100%|██████████| 338/338 [00:01<00:00, 256.11it/s]"
     ]
    },
    {
     "name": "stdout",
     "output_type": "stream",
     "text": [
      "[MoviePy] Done.\n",
      "[MoviePy] Writing video videoPairs/pair25.mp4\n"
     ]
    },
    {
     "name": "stderr",
     "output_type": "stream",
     "text": [
      "\n",
      "100%|██████████| 460/460 [00:35<00:00, 13.01it/s]\n"
     ]
    },
    {
     "name": "stdout",
     "output_type": "stream",
     "text": [
      "[MoviePy] Done.\n",
      "[MoviePy] >>>> Video ready: videoPairs/pair25.mp4 \n",
      "\n",
      "[MoviePy] >>>> Building video videoPairs/pair26.mp4\n",
      "[MoviePy] Writing audio in pair26TEMP_MPY_wvf_snd.mp3\n"
     ]
    },
    {
     "name": "stderr",
     "output_type": "stream",
     "text": [
      "100%|██████████| 338/338 [00:01<00:00, 220.29it/s]"
     ]
    },
    {
     "name": "stdout",
     "output_type": "stream",
     "text": [
      "[MoviePy] Done.\n",
      "[MoviePy] Writing video videoPairs/pair26.mp4\n"
     ]
    },
    {
     "name": "stderr",
     "output_type": "stream",
     "text": [
      "\n",
      "100%|██████████| 460/460 [00:37<00:00, 12.64it/s]\n"
     ]
    },
    {
     "name": "stdout",
     "output_type": "stream",
     "text": [
      "[MoviePy] Done.\n",
      "[MoviePy] >>>> Video ready: videoPairs/pair26.mp4 \n",
      "\n",
      "[MoviePy] >>>> Building video videoPairs/pair27.mp4\n",
      "[MoviePy] Writing audio in pair27TEMP_MPY_wvf_snd.mp3\n"
     ]
    },
    {
     "name": "stderr",
     "output_type": "stream",
     "text": [
      "100%|██████████| 338/338 [00:01<00:00, 187.41it/s]"
     ]
    },
    {
     "name": "stdout",
     "output_type": "stream",
     "text": [
      "[MoviePy] Done.\n",
      "[MoviePy] Writing video videoPairs/pair27.mp4\n"
     ]
    },
    {
     "name": "stderr",
     "output_type": "stream",
     "text": [
      "\n",
      "100%|██████████| 460/460 [00:35<00:00, 13.27it/s]\n"
     ]
    },
    {
     "name": "stdout",
     "output_type": "stream",
     "text": [
      "[MoviePy] Done.\n",
      "[MoviePy] >>>> Video ready: videoPairs/pair27.mp4 \n",
      "\n",
      "[MoviePy] >>>> Building video videoPairs/pair28.mp4\n",
      "[MoviePy] Writing audio in pair28TEMP_MPY_wvf_snd.mp3\n"
     ]
    },
    {
     "name": "stderr",
     "output_type": "stream",
     "text": [
      "100%|██████████| 338/338 [00:01<00:00, 195.15it/s]"
     ]
    },
    {
     "name": "stdout",
     "output_type": "stream",
     "text": [
      "[MoviePy] Done.\n",
      "[MoviePy] Writing video videoPairs/pair28.mp4\n"
     ]
    },
    {
     "name": "stderr",
     "output_type": "stream",
     "text": [
      "\n",
      "100%|██████████| 460/460 [00:36<00:00, 13.09it/s]\n"
     ]
    },
    {
     "name": "stdout",
     "output_type": "stream",
     "text": [
      "[MoviePy] Done.\n",
      "[MoviePy] >>>> Video ready: videoPairs/pair28.mp4 \n",
      "\n",
      "[MoviePy] >>>> Building video videoPairs/pair29.mp4\n",
      "[MoviePy] Writing audio in pair29TEMP_MPY_wvf_snd.mp3\n"
     ]
    },
    {
     "name": "stderr",
     "output_type": "stream",
     "text": [
      "100%|██████████| 338/338 [00:01<00:00, 232.72it/s]"
     ]
    },
    {
     "name": "stdout",
     "output_type": "stream",
     "text": [
      "[MoviePy] Done.\n",
      "[MoviePy] Writing video videoPairs/pair29.mp4\n"
     ]
    },
    {
     "name": "stderr",
     "output_type": "stream",
     "text": [
      "\n",
      "100%|██████████| 460/460 [00:35<00:00, 13.40it/s]\n"
     ]
    },
    {
     "name": "stdout",
     "output_type": "stream",
     "text": [
      "[MoviePy] Done.\n",
      "[MoviePy] >>>> Video ready: videoPairs/pair29.mp4 \n",
      "\n",
      "[MoviePy] >>>> Building video videoPairs/pair30.mp4\n",
      "[MoviePy] Writing audio in pair30TEMP_MPY_wvf_snd.mp3\n"
     ]
    },
    {
     "name": "stderr",
     "output_type": "stream",
     "text": [
      "100%|██████████| 339/339 [00:01<00:00, 221.33it/s]"
     ]
    },
    {
     "name": "stdout",
     "output_type": "stream",
     "text": [
      "[MoviePy] Done.\n",
      "[MoviePy] Writing video videoPairs/pair30.mp4\n"
     ]
    },
    {
     "name": "stderr",
     "output_type": "stream",
     "text": [
      "\n",
      "100%|██████████| 460/460 [00:33<00:00, 14.00it/s]\n"
     ]
    },
    {
     "name": "stdout",
     "output_type": "stream",
     "text": [
      "[MoviePy] Done.\n",
      "[MoviePy] >>>> Video ready: videoPairs/pair30.mp4 \n",
      "\n",
      "[MoviePy] >>>> Building video videoPairs/pair31.mp4\n",
      "[MoviePy] Writing audio in pair31TEMP_MPY_wvf_snd.mp3\n"
     ]
    },
    {
     "name": "stderr",
     "output_type": "stream",
     "text": [
      "100%|██████████| 338/338 [00:01<00:00, 198.33it/s]"
     ]
    },
    {
     "name": "stdout",
     "output_type": "stream",
     "text": [
      "[MoviePy] Done.\n",
      "[MoviePy] Writing video videoPairs/pair31.mp4\n"
     ]
    },
    {
     "name": "stderr",
     "output_type": "stream",
     "text": [
      "\n",
      "100%|██████████| 460/460 [00:37<00:00, 12.94it/s]\n"
     ]
    },
    {
     "name": "stdout",
     "output_type": "stream",
     "text": [
      "[MoviePy] Done.\n",
      "[MoviePy] >>>> Video ready: videoPairs/pair31.mp4 \n",
      "\n",
      "[MoviePy] >>>> Building video videoPairs/pair32.mp4\n",
      "[MoviePy] Writing audio in pair32TEMP_MPY_wvf_snd.mp3\n"
     ]
    },
    {
     "name": "stderr",
     "output_type": "stream",
     "text": [
      "100%|██████████| 338/338 [00:01<00:00, 187.41it/s]"
     ]
    },
    {
     "name": "stdout",
     "output_type": "stream",
     "text": [
      "[MoviePy] Done.\n",
      "[MoviePy] Writing video videoPairs/pair32.mp4\n"
     ]
    },
    {
     "name": "stderr",
     "output_type": "stream",
     "text": [
      "\n",
      "100%|██████████| 460/460 [00:35<00:00, 13.29it/s]\n"
     ]
    },
    {
     "name": "stdout",
     "output_type": "stream",
     "text": [
      "[MoviePy] Done.\n",
      "[MoviePy] >>>> Video ready: videoPairs/pair32.mp4 \n",
      "\n",
      "[MoviePy] >>>> Building video videoPairs/pair33.mp4\n",
      "[MoviePy] Writing audio in pair33TEMP_MPY_wvf_snd.mp3\n"
     ]
    },
    {
     "name": "stderr",
     "output_type": "stream",
     "text": [
      "100%|██████████| 338/338 [00:01<00:00, 193.64it/s]"
     ]
    },
    {
     "name": "stdout",
     "output_type": "stream",
     "text": [
      "[MoviePy] Done.\n",
      "[MoviePy] Writing video videoPairs/pair33.mp4\n"
     ]
    },
    {
     "name": "stderr",
     "output_type": "stream",
     "text": [
      "\n",
      "100%|██████████| 460/460 [00:37<00:00, 12.23it/s]\n"
     ]
    },
    {
     "name": "stdout",
     "output_type": "stream",
     "text": [
      "[MoviePy] Done.\n",
      "[MoviePy] >>>> Video ready: videoPairs/pair33.mp4 \n",
      "\n",
      "[MoviePy] >>>> Building video videoPairs/pair34.mp4\n",
      "[MoviePy] Writing audio in pair34TEMP_MPY_wvf_snd.mp3\n"
     ]
    },
    {
     "name": "stderr",
     "output_type": "stream",
     "text": [
      "100%|██████████| 338/338 [00:01<00:00, 211.97it/s]"
     ]
    },
    {
     "name": "stdout",
     "output_type": "stream",
     "text": [
      "[MoviePy] Done.\n",
      "[MoviePy] Writing video videoPairs/pair34.mp4\n"
     ]
    },
    {
     "name": "stderr",
     "output_type": "stream",
     "text": [
      "\n",
      "100%|██████████| 460/460 [00:36<00:00, 12.84it/s]\n"
     ]
    },
    {
     "name": "stdout",
     "output_type": "stream",
     "text": [
      "[MoviePy] Done.\n",
      "[MoviePy] >>>> Video ready: videoPairs/pair34.mp4 \n",
      "\n",
      "[MoviePy] >>>> Building video videoPairs/pair35.mp4\n",
      "[MoviePy] Writing audio in pair35TEMP_MPY_wvf_snd.mp3\n"
     ]
    },
    {
     "name": "stderr",
     "output_type": "stream",
     "text": [
      "100%|██████████| 338/338 [00:01<00:00, 205.47it/s]"
     ]
    },
    {
     "name": "stdout",
     "output_type": "stream",
     "text": [
      "[MoviePy] Done.\n",
      "[MoviePy] Writing video videoPairs/pair35.mp4\n"
     ]
    },
    {
     "name": "stderr",
     "output_type": "stream",
     "text": [
      "\n",
      "100%|██████████| 460/460 [00:36<00:00, 12.72it/s]\n"
     ]
    },
    {
     "name": "stdout",
     "output_type": "stream",
     "text": [
      "[MoviePy] Done.\n",
      "[MoviePy] >>>> Video ready: videoPairs/pair35.mp4 \n",
      "\n",
      "[MoviePy] >>>> Building video videoPairs/pair36.mp4\n",
      "[MoviePy] Writing audio in pair36TEMP_MPY_wvf_snd.mp3\n"
     ]
    },
    {
     "name": "stderr",
     "output_type": "stream",
     "text": [
      "100%|██████████| 338/338 [00:01<00:00, 201.40it/s]"
     ]
    },
    {
     "name": "stdout",
     "output_type": "stream",
     "text": [
      "[MoviePy] Done.\n",
      "[MoviePy] Writing video videoPairs/pair36.mp4\n"
     ]
    },
    {
     "name": "stderr",
     "output_type": "stream",
     "text": [
      "\n",
      "100%|██████████| 460/460 [00:37<00:00, 12.95it/s]\n"
     ]
    },
    {
     "name": "stdout",
     "output_type": "stream",
     "text": [
      "[MoviePy] Done.\n",
      "[MoviePy] >>>> Video ready: videoPairs/pair36.mp4 \n",
      "\n",
      "[MoviePy] >>>> Building video videoPairs/pair37.mp4\n",
      "[MoviePy] Writing audio in pair37TEMP_MPY_wvf_snd.mp3\n"
     ]
    },
    {
     "name": "stderr",
     "output_type": "stream",
     "text": [
      "100%|██████████| 338/338 [00:01<00:00, 253.95it/s]"
     ]
    },
    {
     "name": "stdout",
     "output_type": "stream",
     "text": [
      "[MoviePy] Done.\n",
      "[MoviePy] Writing video videoPairs/pair37.mp4\n"
     ]
    },
    {
     "name": "stderr",
     "output_type": "stream",
     "text": [
      "\n",
      "100%|██████████| 460/460 [00:35<00:00, 13.38it/s]\n"
     ]
    },
    {
     "name": "stdout",
     "output_type": "stream",
     "text": [
      "[MoviePy] Done.\n",
      "[MoviePy] >>>> Video ready: videoPairs/pair37.mp4 \n",
      "\n",
      "[MoviePy] >>>> Building video videoPairs/pair38.mp4\n",
      "[MoviePy] Writing audio in pair38TEMP_MPY_wvf_snd.mp3\n"
     ]
    },
    {
     "name": "stderr",
     "output_type": "stream",
     "text": [
      "100%|██████████| 339/339 [00:01<00:00, 233.16it/s]"
     ]
    },
    {
     "name": "stdout",
     "output_type": "stream",
     "text": [
      "[MoviePy] Done.\n",
      "[MoviePy] Writing video videoPairs/pair38.mp4\n"
     ]
    },
    {
     "name": "stderr",
     "output_type": "stream",
     "text": [
      "\n",
      "100%|██████████| 460/460 [00:36<00:00, 12.96it/s]\n"
     ]
    },
    {
     "name": "stdout",
     "output_type": "stream",
     "text": [
      "[MoviePy] Done.\n",
      "[MoviePy] >>>> Video ready: videoPairs/pair38.mp4 \n",
      "\n",
      "[MoviePy] >>>> Building video videoPairs/pair39.mp4\n",
      "[MoviePy] Writing audio in pair39TEMP_MPY_wvf_snd.mp3\n"
     ]
    },
    {
     "name": "stderr",
     "output_type": "stream",
     "text": [
      "100%|██████████| 338/338 [00:01<00:00, 234.91it/s]"
     ]
    },
    {
     "name": "stdout",
     "output_type": "stream",
     "text": [
      "[MoviePy] Done.\n",
      "[MoviePy] Writing video videoPairs/pair39.mp4\n"
     ]
    },
    {
     "name": "stderr",
     "output_type": "stream",
     "text": [
      "\n",
      "100%|██████████| 460/460 [00:36<00:00, 13.43it/s]\n"
     ]
    },
    {
     "name": "stdout",
     "output_type": "stream",
     "text": [
      "[MoviePy] Done.\n",
      "[MoviePy] >>>> Video ready: videoPairs/pair39.mp4 \n",
      "\n",
      "[MoviePy] >>>> Building video videoPairs/pair40.mp4\n",
      "[MoviePy] Writing audio in pair40TEMP_MPY_wvf_snd.mp3\n"
     ]
    },
    {
     "name": "stderr",
     "output_type": "stream",
     "text": [
      "100%|██████████| 338/338 [00:01<00:00, 198.16it/s]"
     ]
    },
    {
     "name": "stdout",
     "output_type": "stream",
     "text": [
      "[MoviePy] Done.\n",
      "[MoviePy] Writing video videoPairs/pair40.mp4\n"
     ]
    },
    {
     "name": "stderr",
     "output_type": "stream",
     "text": [
      "\n",
      "100%|██████████| 460/460 [00:39<00:00, 12.41it/s]\n"
     ]
    },
    {
     "name": "stdout",
     "output_type": "stream",
     "text": [
      "[MoviePy] Done.\n",
      "[MoviePy] >>>> Video ready: videoPairs/pair40.mp4 \n",
      "\n",
      "[MoviePy] >>>> Building video videoPairs/pair41.mp4\n",
      "[MoviePy] Writing audio in pair41TEMP_MPY_wvf_snd.mp3\n"
     ]
    },
    {
     "name": "stderr",
     "output_type": "stream",
     "text": [
      "100%|██████████| 338/338 [00:01<00:00, 172.93it/s]"
     ]
    },
    {
     "name": "stdout",
     "output_type": "stream",
     "text": [
      "[MoviePy] Done.\n",
      "[MoviePy] Writing video videoPairs/pair41.mp4\n"
     ]
    },
    {
     "name": "stderr",
     "output_type": "stream",
     "text": [
      "\n",
      "100%|██████████| 460/460 [00:39<00:00, 11.69it/s]\n"
     ]
    },
    {
     "name": "stdout",
     "output_type": "stream",
     "text": [
      "[MoviePy] Done.\n",
      "[MoviePy] >>>> Video ready: videoPairs/pair41.mp4 \n",
      "\n",
      "[MoviePy] >>>> Building video videoPairs/pair42.mp4\n",
      "[MoviePy] Writing audio in pair42TEMP_MPY_wvf_snd.mp3\n"
     ]
    },
    {
     "name": "stderr",
     "output_type": "stream",
     "text": [
      "100%|██████████| 338/338 [00:02<00:00, 151.41it/s]"
     ]
    },
    {
     "name": "stdout",
     "output_type": "stream",
     "text": [
      "[MoviePy] Done.\n",
      "[MoviePy] Writing video videoPairs/pair42.mp4\n"
     ]
    },
    {
     "name": "stderr",
     "output_type": "stream",
     "text": [
      "\n",
      "100%|██████████| 460/460 [00:39<00:00, 12.32it/s]\n"
     ]
    },
    {
     "name": "stdout",
     "output_type": "stream",
     "text": [
      "[MoviePy] Done.\n",
      "[MoviePy] >>>> Video ready: videoPairs/pair42.mp4 \n",
      "\n",
      "[MoviePy] >>>> Building video videoPairs/pair43.mp4\n",
      "[MoviePy] Writing audio in pair43TEMP_MPY_wvf_snd.mp3\n"
     ]
    },
    {
     "name": "stderr",
     "output_type": "stream",
     "text": [
      "100%|██████████| 338/338 [00:01<00:00, 175.28it/s]"
     ]
    },
    {
     "name": "stdout",
     "output_type": "stream",
     "text": [
      "[MoviePy] Done.\n",
      "[MoviePy] Writing video videoPairs/pair43.mp4\n"
     ]
    },
    {
     "name": "stderr",
     "output_type": "stream",
     "text": [
      "\n",
      "100%|██████████| 460/460 [00:41<00:00, 11.10it/s]\n"
     ]
    },
    {
     "name": "stdout",
     "output_type": "stream",
     "text": [
      "[MoviePy] Done.\n",
      "[MoviePy] >>>> Video ready: videoPairs/pair43.mp4 \n",
      "\n",
      "[MoviePy] >>>> Building video videoPairs/pair44.mp4\n",
      "[MoviePy] Writing audio in pair44TEMP_MPY_wvf_snd.mp3\n"
     ]
    },
    {
     "name": "stderr",
     "output_type": "stream",
     "text": [
      "100%|██████████| 338/338 [00:02<00:00, 160.28it/s]"
     ]
    },
    {
     "name": "stdout",
     "output_type": "stream",
     "text": [
      "[MoviePy] Done.\n",
      "[MoviePy] Writing video videoPairs/pair44.mp4\n"
     ]
    },
    {
     "name": "stderr",
     "output_type": "stream",
     "text": [
      "\n",
      "100%|██████████| 460/460 [00:38<00:00, 12.53it/s]\n"
     ]
    },
    {
     "name": "stdout",
     "output_type": "stream",
     "text": [
      "[MoviePy] Done.\n",
      "[MoviePy] >>>> Video ready: videoPairs/pair44.mp4 \n",
      "\n",
      "[MoviePy] >>>> Building video videoPairs/pair45.mp4\n",
      "[MoviePy] Writing audio in pair45TEMP_MPY_wvf_snd.mp3\n"
     ]
    },
    {
     "name": "stderr",
     "output_type": "stream",
     "text": [
      "100%|██████████| 338/338 [00:01<00:00, 181.36it/s]\n"
     ]
    },
    {
     "name": "stdout",
     "output_type": "stream",
     "text": [
      "[MoviePy] Done.\n",
      "[MoviePy] Writing video videoPairs/pair45.mp4\n"
     ]
    },
    {
     "name": "stderr",
     "output_type": "stream",
     "text": [
      "100%|██████████| 460/460 [00:38<00:00, 12.39it/s]\n"
     ]
    },
    {
     "name": "stdout",
     "output_type": "stream",
     "text": [
      "[MoviePy] Done.\n",
      "[MoviePy] >>>> Video ready: videoPairs/pair45.mp4 \n",
      "\n",
      "[MoviePy] >>>> Building video videoPairs/pair46.mp4\n",
      "[MoviePy] Writing audio in pair46TEMP_MPY_wvf_snd.mp3\n"
     ]
    },
    {
     "name": "stderr",
     "output_type": "stream",
     "text": [
      "100%|██████████| 338/338 [00:02<00:00, 162.43it/s]"
     ]
    },
    {
     "name": "stdout",
     "output_type": "stream",
     "text": [
      "[MoviePy] Done.\n",
      "[MoviePy] Writing video videoPairs/pair46.mp4\n"
     ]
    },
    {
     "name": "stderr",
     "output_type": "stream",
     "text": [
      "\n",
      "100%|██████████| 460/460 [00:34<00:00, 17.80it/s]\n"
     ]
    },
    {
     "name": "stdout",
     "output_type": "stream",
     "text": [
      "[MoviePy] Done.\n",
      "[MoviePy] >>>> Video ready: videoPairs/pair46.mp4 \n",
      "\n",
      "[MoviePy] >>>> Building video videoPairs/pair47.mp4\n",
      "[MoviePy] Writing audio in pair47TEMP_MPY_wvf_snd.mp3\n"
     ]
    },
    {
     "name": "stderr",
     "output_type": "stream",
     "text": [
      "100%|██████████| 338/338 [00:01<00:00, 176.49it/s]\n"
     ]
    },
    {
     "name": "stdout",
     "output_type": "stream",
     "text": [
      "[MoviePy] Done.\n",
      "[MoviePy] Writing video videoPairs/pair47.mp4\n"
     ]
    },
    {
     "name": "stderr",
     "output_type": "stream",
     "text": [
      "100%|██████████| 460/460 [00:40<00:00, 11.41it/s]\n"
     ]
    },
    {
     "name": "stdout",
     "output_type": "stream",
     "text": [
      "[MoviePy] Done.\n",
      "[MoviePy] >>>> Video ready: videoPairs/pair47.mp4 \n",
      "\n",
      "[MoviePy] >>>> Building video videoPairs/pair48.mp4\n",
      "[MoviePy] Writing audio in pair48TEMP_MPY_wvf_snd.mp3\n"
     ]
    },
    {
     "name": "stderr",
     "output_type": "stream",
     "text": [
      "100%|██████████| 338/338 [00:02<00:00, 160.74it/s]\n"
     ]
    },
    {
     "name": "stdout",
     "output_type": "stream",
     "text": [
      "[MoviePy] Done.\n",
      "[MoviePy] Writing video videoPairs/pair48.mp4\n"
     ]
    },
    {
     "name": "stderr",
     "output_type": "stream",
     "text": [
      "100%|██████████| 460/460 [00:38<00:00, 12.10it/s]\n"
     ]
    },
    {
     "name": "stdout",
     "output_type": "stream",
     "text": [
      "[MoviePy] Done.\n",
      "[MoviePy] >>>> Video ready: videoPairs/pair48.mp4 \n",
      "\n",
      "[MoviePy] >>>> Building video videoPairs/pair49.mp4\n",
      "[MoviePy] Writing audio in pair49TEMP_MPY_wvf_snd.mp3\n"
     ]
    },
    {
     "name": "stderr",
     "output_type": "stream",
     "text": [
      "100%|██████████| 338/338 [00:01<00:00, 238.77it/s]"
     ]
    },
    {
     "name": "stdout",
     "output_type": "stream",
     "text": [
      "[MoviePy] Done.\n",
      "[MoviePy] Writing video videoPairs/pair49.mp4\n"
     ]
    },
    {
     "name": "stderr",
     "output_type": "stream",
     "text": [
      "\n",
      "100%|██████████| 460/460 [00:39<00:00, 12.01it/s]\n"
     ]
    },
    {
     "name": "stdout",
     "output_type": "stream",
     "text": [
      "[MoviePy] Done.\n",
      "[MoviePy] >>>> Video ready: videoPairs/pair49.mp4 \n",
      "\n",
      "[MoviePy] >>>> Building video videoPairs/pair50.mp4\n",
      "[MoviePy] Writing audio in pair50TEMP_MPY_wvf_snd.mp3\n"
     ]
    },
    {
     "name": "stderr",
     "output_type": "stream",
     "text": [
      "100%|██████████| 338/338 [00:02<00:00, 159.79it/s]\n"
     ]
    },
    {
     "name": "stdout",
     "output_type": "stream",
     "text": [
      "[MoviePy] Done.\n",
      "[MoviePy] Writing video videoPairs/pair50.mp4\n"
     ]
    },
    {
     "name": "stderr",
     "output_type": "stream",
     "text": [
      "100%|██████████| 460/460 [00:39<00:00, 11.57it/s]\n"
     ]
    },
    {
     "name": "stdout",
     "output_type": "stream",
     "text": [
      "[MoviePy] Done.\n",
      "[MoviePy] >>>> Video ready: videoPairs/pair50.mp4 \n",
      "\n",
      "[MoviePy] >>>> Building video videoPairs/pair51.mp4\n",
      "[MoviePy] Writing audio in pair51TEMP_MPY_wvf_snd.mp3\n"
     ]
    },
    {
     "name": "stderr",
     "output_type": "stream",
     "text": [
      "100%|██████████| 338/338 [00:02<00:00, 158.84it/s]"
     ]
    },
    {
     "name": "stdout",
     "output_type": "stream",
     "text": [
      "[MoviePy] Done.\n",
      "[MoviePy] Writing video videoPairs/pair51.mp4\n"
     ]
    },
    {
     "name": "stderr",
     "output_type": "stream",
     "text": [
      "\n",
      "100%|██████████| 460/460 [00:38<00:00, 11.88it/s]\n"
     ]
    },
    {
     "name": "stdout",
     "output_type": "stream",
     "text": [
      "[MoviePy] Done.\n",
      "[MoviePy] >>>> Video ready: videoPairs/pair51.mp4 \n",
      "\n",
      "[MoviePy] >>>> Building video videoPairs/pair52.mp4\n",
      "[MoviePy] Writing audio in pair52TEMP_MPY_wvf_snd.mp3\n"
     ]
    },
    {
     "name": "stderr",
     "output_type": "stream",
     "text": [
      "100%|██████████| 338/338 [00:01<00:00, 187.13it/s]\n"
     ]
    },
    {
     "name": "stdout",
     "output_type": "stream",
     "text": [
      "[MoviePy] Done.\n",
      "[MoviePy] Writing video videoPairs/pair52.mp4\n"
     ]
    },
    {
     "name": "stderr",
     "output_type": "stream",
     "text": [
      "100%|██████████| 460/460 [00:38<00:00, 12.25it/s]\n"
     ]
    },
    {
     "name": "stdout",
     "output_type": "stream",
     "text": [
      "[MoviePy] Done.\n",
      "[MoviePy] >>>> Video ready: videoPairs/pair52.mp4 \n",
      "\n",
      "[MoviePy] >>>> Building video videoPairs/pair53.mp4\n",
      "[MoviePy] Writing audio in pair53TEMP_MPY_wvf_snd.mp3\n"
     ]
    },
    {
     "name": "stderr",
     "output_type": "stream",
     "text": [
      "100%|██████████| 338/338 [00:02<00:00, 176.16it/s]"
     ]
    },
    {
     "name": "stdout",
     "output_type": "stream",
     "text": [
      "[MoviePy] Done.\n",
      "[MoviePy] Writing video videoPairs/pair53.mp4\n"
     ]
    },
    {
     "name": "stderr",
     "output_type": "stream",
     "text": [
      "\n",
      "100%|██████████| 460/460 [00:39<00:00, 12.66it/s]\n"
     ]
    },
    {
     "name": "stdout",
     "output_type": "stream",
     "text": [
      "[MoviePy] Done.\n",
      "[MoviePy] >>>> Video ready: videoPairs/pair53.mp4 \n",
      "\n",
      "[MoviePy] >>>> Building video videoPairs/pair54.mp4\n",
      "[MoviePy] Writing audio in pair54TEMP_MPY_wvf_snd.mp3\n"
     ]
    },
    {
     "name": "stderr",
     "output_type": "stream",
     "text": [
      "100%|██████████| 338/338 [00:02<00:00, 164.80it/s]"
     ]
    },
    {
     "name": "stdout",
     "output_type": "stream",
     "text": [
      "[MoviePy] Done.\n",
      "[MoviePy] Writing video videoPairs/pair54.mp4\n"
     ]
    },
    {
     "name": "stderr",
     "output_type": "stream",
     "text": [
      "\n",
      "100%|██████████| 460/460 [00:40<00:00, 11.63it/s]\n"
     ]
    },
    {
     "name": "stdout",
     "output_type": "stream",
     "text": [
      "[MoviePy] Done.\n",
      "[MoviePy] >>>> Video ready: videoPairs/pair54.mp4 \n",
      "\n",
      "[MoviePy] >>>> Building video videoPairs/pair55.mp4\n",
      "[MoviePy] Writing audio in pair55TEMP_MPY_wvf_snd.mp3\n"
     ]
    },
    {
     "name": "stderr",
     "output_type": "stream",
     "text": [
      "100%|██████████| 338/338 [00:02<00:00, 167.84it/s]\n"
     ]
    },
    {
     "name": "stdout",
     "output_type": "stream",
     "text": [
      "[MoviePy] Done.\n",
      "[MoviePy] Writing video videoPairs/pair55.mp4\n"
     ]
    },
    {
     "name": "stderr",
     "output_type": "stream",
     "text": [
      "100%|██████████| 460/460 [00:38<00:00, 12.33it/s]\n"
     ]
    },
    {
     "name": "stdout",
     "output_type": "stream",
     "text": [
      "[MoviePy] Done.\n",
      "[MoviePy] >>>> Video ready: videoPairs/pair55.mp4 \n",
      "\n",
      "[MoviePy] >>>> Building video videoPairs/pair56.mp4\n",
      "[MoviePy] Writing audio in pair56TEMP_MPY_wvf_snd.mp3\n"
     ]
    },
    {
     "name": "stderr",
     "output_type": "stream",
     "text": [
      "100%|██████████| 338/338 [00:01<00:00, 200.61it/s]"
     ]
    },
    {
     "name": "stdout",
     "output_type": "stream",
     "text": [
      "[MoviePy] Done.\n",
      "[MoviePy] Writing video videoPairs/pair56.mp4\n"
     ]
    },
    {
     "name": "stderr",
     "output_type": "stream",
     "text": [
      "\n",
      "100%|██████████| 460/460 [00:39<00:00, 12.05it/s]\n"
     ]
    },
    {
     "name": "stdout",
     "output_type": "stream",
     "text": [
      "[MoviePy] Done.\n",
      "[MoviePy] >>>> Video ready: videoPairs/pair56.mp4 \n",
      "\n",
      "[MoviePy] >>>> Building video videoPairs/pair57.mp4\n",
      "[MoviePy] Writing audio in pair57TEMP_MPY_wvf_snd.mp3\n"
     ]
    },
    {
     "name": "stderr",
     "output_type": "stream",
     "text": [
      "100%|██████████| 338/338 [00:01<00:00, 178.09it/s]"
     ]
    },
    {
     "name": "stdout",
     "output_type": "stream",
     "text": [
      "[MoviePy] Done.\n",
      "[MoviePy] Writing video videoPairs/pair57.mp4\n"
     ]
    },
    {
     "name": "stderr",
     "output_type": "stream",
     "text": [
      "\n",
      "100%|██████████| 460/460 [00:38<00:00, 11.66it/s]\n"
     ]
    },
    {
     "name": "stdout",
     "output_type": "stream",
     "text": [
      "[MoviePy] Done.\n",
      "[MoviePy] >>>> Video ready: videoPairs/pair57.mp4 \n",
      "\n",
      "[MoviePy] >>>> Building video videoPairs/pair58.mp4\n",
      "[MoviePy] Writing audio in pair58TEMP_MPY_wvf_snd.mp3\n"
     ]
    },
    {
     "name": "stderr",
     "output_type": "stream",
     "text": [
      "100%|██████████| 338/338 [00:02<00:00, 165.38it/s]"
     ]
    },
    {
     "name": "stdout",
     "output_type": "stream",
     "text": [
      "[MoviePy] Done.\n",
      "[MoviePy] Writing video videoPairs/pair58.mp4\n"
     ]
    },
    {
     "name": "stderr",
     "output_type": "stream",
     "text": [
      "\n",
      "100%|██████████| 460/460 [00:39<00:00, 12.55it/s]\n"
     ]
    },
    {
     "name": "stdout",
     "output_type": "stream",
     "text": [
      "[MoviePy] Done.\n",
      "[MoviePy] >>>> Video ready: videoPairs/pair58.mp4 \n",
      "\n",
      "[MoviePy] >>>> Building video videoPairs/pair59.mp4\n",
      "[MoviePy] Writing audio in pair59TEMP_MPY_wvf_snd.mp3\n"
     ]
    },
    {
     "name": "stderr",
     "output_type": "stream",
     "text": [
      "100%|██████████| 338/338 [00:01<00:00, 195.50it/s]"
     ]
    },
    {
     "name": "stdout",
     "output_type": "stream",
     "text": [
      "[MoviePy] Done.\n",
      "[MoviePy] Writing video videoPairs/pair59.mp4\n"
     ]
    },
    {
     "name": "stderr",
     "output_type": "stream",
     "text": [
      "\n",
      "100%|██████████| 460/460 [00:39<00:00, 11.94it/s]\n"
     ]
    },
    {
     "name": "stdout",
     "output_type": "stream",
     "text": [
      "[MoviePy] Done.\n",
      "[MoviePy] >>>> Video ready: videoPairs/pair59.mp4 \n",
      "\n",
      "[MoviePy] >>>> Building video videoPairs/pair60.mp4\n",
      "[MoviePy] Writing audio in pair60TEMP_MPY_wvf_snd.mp3\n"
     ]
    },
    {
     "name": "stderr",
     "output_type": "stream",
     "text": [
      "100%|██████████| 338/338 [00:02<00:00, 151.07it/s]"
     ]
    },
    {
     "name": "stdout",
     "output_type": "stream",
     "text": [
      "[MoviePy] Done.\n",
      "[MoviePy] Writing video videoPairs/pair60.mp4\n"
     ]
    },
    {
     "name": "stderr",
     "output_type": "stream",
     "text": [
      "\n",
      "100%|██████████| 460/460 [00:39<00:00, 12.23it/s]\n"
     ]
    },
    {
     "name": "stdout",
     "output_type": "stream",
     "text": [
      "[MoviePy] Done.\n",
      "[MoviePy] >>>> Video ready: videoPairs/pair60.mp4 \n",
      "\n",
      "[MoviePy] >>>> Building video videoPairs/pair61.mp4\n",
      "[MoviePy] Writing audio in pair61TEMP_MPY_wvf_snd.mp3\n"
     ]
    },
    {
     "name": "stderr",
     "output_type": "stream",
     "text": [
      "100%|██████████| 338/338 [00:01<00:00, 179.07it/s]"
     ]
    },
    {
     "name": "stdout",
     "output_type": "stream",
     "text": [
      "[MoviePy] Done.\n",
      "[MoviePy] Writing video videoPairs/pair61.mp4\n"
     ]
    },
    {
     "name": "stderr",
     "output_type": "stream",
     "text": [
      "\n",
      "100%|██████████| 460/460 [00:42<00:00, 10.75it/s]\n"
     ]
    },
    {
     "name": "stdout",
     "output_type": "stream",
     "text": [
      "[MoviePy] Done.\n",
      "[MoviePy] >>>> Video ready: videoPairs/pair61.mp4 \n",
      "\n",
      "[MoviePy] >>>> Building video videoPairs/pair62.mp4\n",
      "[MoviePy] Writing audio in pair62TEMP_MPY_wvf_snd.mp3\n"
     ]
    },
    {
     "name": "stderr",
     "output_type": "stream",
     "text": [
      "100%|██████████| 338/338 [00:02<00:00, 128.45it/s]"
     ]
    },
    {
     "name": "stdout",
     "output_type": "stream",
     "text": [
      "[MoviePy] Done.\n",
      "[MoviePy] Writing video videoPairs/pair62.mp4\n"
     ]
    },
    {
     "name": "stderr",
     "output_type": "stream",
     "text": [
      "\n",
      "100%|██████████| 460/460 [00:55<00:00,  8.34it/s]\n"
     ]
    },
    {
     "name": "stdout",
     "output_type": "stream",
     "text": [
      "[MoviePy] Done.\n",
      "[MoviePy] >>>> Video ready: videoPairs/pair62.mp4 \n",
      "\n",
      "[MoviePy] >>>> Building video videoPairs/pair63.mp4\n",
      "[MoviePy] Writing audio in pair63TEMP_MPY_wvf_snd.mp3\n"
     ]
    },
    {
     "name": "stderr",
     "output_type": "stream",
     "text": [
      "100%|██████████| 338/338 [00:02<00:00, 147.83it/s]"
     ]
    },
    {
     "name": "stdout",
     "output_type": "stream",
     "text": [
      "[MoviePy] Done.\n",
      "[MoviePy] Writing video videoPairs/pair63.mp4\n"
     ]
    },
    {
     "name": "stderr",
     "output_type": "stream",
     "text": [
      "\n",
      "100%|██████████| 460/460 [00:58<00:00,  7.82it/s]\n"
     ]
    },
    {
     "name": "stdout",
     "output_type": "stream",
     "text": [
      "[MoviePy] Done.\n",
      "[MoviePy] >>>> Video ready: videoPairs/pair63.mp4 \n",
      "\n",
      "[MoviePy] >>>> Building video videoPairs/pair64.mp4\n",
      "[MoviePy] Writing audio in pair64TEMP_MPY_wvf_snd.mp3\n"
     ]
    },
    {
     "name": "stderr",
     "output_type": "stream",
     "text": [
      "100%|██████████| 338/338 [00:03<00:00, 101.87it/s]"
     ]
    },
    {
     "name": "stdout",
     "output_type": "stream",
     "text": [
      "[MoviePy] Done.\n",
      "[MoviePy] Writing video videoPairs/pair64.mp4\n"
     ]
    },
    {
     "name": "stderr",
     "output_type": "stream",
     "text": [
      "\n",
      "100%|██████████| 460/460 [00:47<00:00,  9.67it/s]\n"
     ]
    },
    {
     "name": "stdout",
     "output_type": "stream",
     "text": [
      "[MoviePy] Done.\n",
      "[MoviePy] >>>> Video ready: videoPairs/pair64.mp4 \n",
      "\n",
      "[MoviePy] >>>> Building video videoPairs/pair65.mp4\n",
      "[MoviePy] Writing audio in pair65TEMP_MPY_wvf_snd.mp3\n"
     ]
    },
    {
     "name": "stderr",
     "output_type": "stream",
     "text": [
      "100%|██████████| 338/338 [00:01<00:00, 216.41it/s]"
     ]
    },
    {
     "name": "stdout",
     "output_type": "stream",
     "text": [
      "[MoviePy] Done.\n",
      "[MoviePy] Writing video videoPairs/pair65.mp4\n"
     ]
    },
    {
     "name": "stderr",
     "output_type": "stream",
     "text": [
      "\n",
      "100%|██████████| 460/460 [00:36<00:00, 12.52it/s]\n"
     ]
    },
    {
     "name": "stdout",
     "output_type": "stream",
     "text": [
      "[MoviePy] Done.\n",
      "[MoviePy] >>>> Video ready: videoPairs/pair65.mp4 \n",
      "\n",
      "[MoviePy] >>>> Building video videoPairs/pair66.mp4\n",
      "[MoviePy] Writing audio in pair66TEMP_MPY_wvf_snd.mp3\n"
     ]
    },
    {
     "name": "stderr",
     "output_type": "stream",
     "text": [
      "100%|██████████| 338/338 [00:01<00:00, 192.69it/s]"
     ]
    },
    {
     "name": "stdout",
     "output_type": "stream",
     "text": [
      "[MoviePy] Done.\n",
      "[MoviePy] Writing video videoPairs/pair66.mp4\n"
     ]
    },
    {
     "name": "stderr",
     "output_type": "stream",
     "text": [
      "\n",
      "100%|██████████| 460/460 [00:36<00:00, 13.15it/s]\n"
     ]
    },
    {
     "name": "stdout",
     "output_type": "stream",
     "text": [
      "[MoviePy] Done.\n",
      "[MoviePy] >>>> Video ready: videoPairs/pair66.mp4 \n",
      "\n",
      "[MoviePy] >>>> Building video videoPairs/pair67.mp4\n",
      "[MoviePy] Writing audio in pair67TEMP_MPY_wvf_snd.mp3\n"
     ]
    },
    {
     "name": "stderr",
     "output_type": "stream",
     "text": [
      "100%|██████████| 338/338 [00:01<00:00, 199.29it/s]"
     ]
    },
    {
     "name": "stdout",
     "output_type": "stream",
     "text": [
      "[MoviePy] Done.\n",
      "[MoviePy] Writing video videoPairs/pair67.mp4\n"
     ]
    },
    {
     "name": "stderr",
     "output_type": "stream",
     "text": [
      "\n",
      "100%|██████████| 460/460 [00:37<00:00, 13.79it/s]\n"
     ]
    },
    {
     "name": "stdout",
     "output_type": "stream",
     "text": [
      "[MoviePy] Done.\n",
      "[MoviePy] >>>> Video ready: videoPairs/pair67.mp4 \n",
      "\n",
      "[MoviePy] >>>> Building video videoPairs/pair68.mp4\n",
      "[MoviePy] Writing audio in pair68TEMP_MPY_wvf_snd.mp3\n"
     ]
    },
    {
     "name": "stderr",
     "output_type": "stream",
     "text": [
      "100%|██████████| 338/338 [00:01<00:00, 181.45it/s]"
     ]
    },
    {
     "name": "stdout",
     "output_type": "stream",
     "text": [
      "[MoviePy] Done.\n",
      "[MoviePy] Writing video videoPairs/pair68.mp4\n"
     ]
    },
    {
     "name": "stderr",
     "output_type": "stream",
     "text": [
      "\n",
      "100%|██████████| 460/460 [00:38<00:00, 12.26it/s]\n"
     ]
    },
    {
     "name": "stdout",
     "output_type": "stream",
     "text": [
      "[MoviePy] Done.\n",
      "[MoviePy] >>>> Video ready: videoPairs/pair68.mp4 \n",
      "\n",
      "[MoviePy] >>>> Building video videoPairs/pair69.mp4\n",
      "[MoviePy] Writing audio in pair69TEMP_MPY_wvf_snd.mp3\n"
     ]
    },
    {
     "name": "stderr",
     "output_type": "stream",
     "text": [
      "100%|██████████| 338/338 [00:01<00:00, 212.26it/s]"
     ]
    },
    {
     "name": "stdout",
     "output_type": "stream",
     "text": [
      "[MoviePy] Done.\n",
      "[MoviePy] Writing video videoPairs/pair69.mp4\n"
     ]
    },
    {
     "name": "stderr",
     "output_type": "stream",
     "text": [
      "\n",
      "100%|██████████| 460/460 [00:36<00:00, 13.03it/s]\n"
     ]
    },
    {
     "name": "stdout",
     "output_type": "stream",
     "text": [
      "[MoviePy] Done.\n",
      "[MoviePy] >>>> Video ready: videoPairs/pair69.mp4 \n",
      "\n",
      "[MoviePy] >>>> Building video videoPairs/pair70.mp4\n",
      "[MoviePy] Writing audio in pair70TEMP_MPY_wvf_snd.mp3\n"
     ]
    },
    {
     "name": "stderr",
     "output_type": "stream",
     "text": [
      "100%|██████████| 338/338 [00:01<00:00, 252.39it/s]"
     ]
    },
    {
     "name": "stdout",
     "output_type": "stream",
     "text": [
      "[MoviePy] Done.\n",
      "[MoviePy] Writing video videoPairs/pair70.mp4\n"
     ]
    },
    {
     "name": "stderr",
     "output_type": "stream",
     "text": [
      "\n",
      "100%|██████████| 460/460 [00:42<00:00,  9.76it/s]\n"
     ]
    },
    {
     "name": "stdout",
     "output_type": "stream",
     "text": [
      "[MoviePy] Done.\n",
      "[MoviePy] >>>> Video ready: videoPairs/pair70.mp4 \n",
      "\n",
      "[MoviePy] >>>> Building video videoPairs/pair71.mp4\n",
      "[MoviePy] Writing audio in pair71TEMP_MPY_wvf_snd.mp3\n"
     ]
    },
    {
     "name": "stderr",
     "output_type": "stream",
     "text": [
      "100%|██████████| 338/338 [00:02<00:00, 161.91it/s]"
     ]
    },
    {
     "name": "stdout",
     "output_type": "stream",
     "text": [
      "[MoviePy] Done.\n",
      "[MoviePy] Writing video videoPairs/pair71.mp4\n"
     ]
    },
    {
     "name": "stderr",
     "output_type": "stream",
     "text": [
      "\n",
      "100%|██████████| 460/460 [00:49<00:00, 11.53it/s]\n"
     ]
    },
    {
     "name": "stdout",
     "output_type": "stream",
     "text": [
      "[MoviePy] Done.\n",
      "[MoviePy] >>>> Video ready: videoPairs/pair71.mp4 \n",
      "\n",
      "[MoviePy] >>>> Building video videoPairs/pair72.mp4\n",
      "[MoviePy] Writing audio in pair72TEMP_MPY_wvf_snd.mp3\n"
     ]
    },
    {
     "name": "stderr",
     "output_type": "stream",
     "text": [
      "100%|██████████| 338/338 [00:01<00:00, 219.76it/s]"
     ]
    },
    {
     "name": "stdout",
     "output_type": "stream",
     "text": [
      "[MoviePy] Done.\n",
      "[MoviePy] Writing video videoPairs/pair72.mp4\n"
     ]
    },
    {
     "name": "stderr",
     "output_type": "stream",
     "text": [
      "\n",
      "100%|██████████| 460/460 [00:39<00:00, 11.78it/s]\n"
     ]
    },
    {
     "name": "stdout",
     "output_type": "stream",
     "text": [
      "[MoviePy] Done.\n",
      "[MoviePy] >>>> Video ready: videoPairs/pair72.mp4 \n",
      "\n",
      "[MoviePy] >>>> Building video videoPairs/pair73.mp4\n",
      "[MoviePy] Writing audio in pair73TEMP_MPY_wvf_snd.mp3\n"
     ]
    },
    {
     "name": "stderr",
     "output_type": "stream",
     "text": [
      "100%|██████████| 338/338 [00:01<00:00, 250.10it/s]"
     ]
    },
    {
     "name": "stdout",
     "output_type": "stream",
     "text": [
      "[MoviePy] Done.\n",
      "[MoviePy] Writing video videoPairs/pair73.mp4\n"
     ]
    },
    {
     "name": "stderr",
     "output_type": "stream",
     "text": [
      "\n",
      "100%|██████████| 460/460 [00:44<00:00, 10.32it/s]\n"
     ]
    },
    {
     "name": "stdout",
     "output_type": "stream",
     "text": [
      "[MoviePy] Done.\n",
      "[MoviePy] >>>> Video ready: videoPairs/pair73.mp4 \n",
      "\n",
      "[MoviePy] >>>> Building video videoPairs/pair74.mp4\n",
      "[MoviePy] Writing audio in pair74TEMP_MPY_wvf_snd.mp3\n"
     ]
    },
    {
     "name": "stderr",
     "output_type": "stream",
     "text": [
      "100%|██████████| 338/338 [00:02<00:00, 134.92it/s]"
     ]
    },
    {
     "name": "stdout",
     "output_type": "stream",
     "text": [
      "[MoviePy] Done.\n",
      "[MoviePy] Writing video videoPairs/pair74.mp4\n"
     ]
    },
    {
     "name": "stderr",
     "output_type": "stream",
     "text": [
      "\n",
      "100%|██████████| 460/460 [00:44<00:00, 11.42it/s]\n"
     ]
    },
    {
     "name": "stdout",
     "output_type": "stream",
     "text": [
      "[MoviePy] Done.\n",
      "[MoviePy] >>>> Video ready: videoPairs/pair74.mp4 \n",
      "\n",
      "[MoviePy] >>>> Building video videoPairs/pair75.mp4\n",
      "[MoviePy] Writing audio in pair75TEMP_MPY_wvf_snd.mp3\n"
     ]
    },
    {
     "name": "stderr",
     "output_type": "stream",
     "text": [
      "100%|██████████| 338/338 [00:02<00:00, 156.75it/s]"
     ]
    },
    {
     "name": "stdout",
     "output_type": "stream",
     "text": [
      "[MoviePy] Done.\n",
      "[MoviePy] Writing video videoPairs/pair75.mp4\n"
     ]
    },
    {
     "name": "stderr",
     "output_type": "stream",
     "text": [
      "\n",
      "100%|██████████| 460/460 [00:42<00:00, 10.80it/s]\n"
     ]
    },
    {
     "name": "stdout",
     "output_type": "stream",
     "text": [
      "[MoviePy] Done.\n",
      "[MoviePy] >>>> Video ready: videoPairs/pair75.mp4 \n",
      "\n",
      "[MoviePy] >>>> Building video videoPairs/pair76.mp4\n",
      "[MoviePy] Writing audio in pair76TEMP_MPY_wvf_snd.mp3\n"
     ]
    },
    {
     "name": "stderr",
     "output_type": "stream",
     "text": [
      "100%|██████████| 338/338 [00:01<00:00, 191.32it/s]"
     ]
    },
    {
     "name": "stdout",
     "output_type": "stream",
     "text": [
      "[MoviePy] Done.\n",
      "[MoviePy] Writing video videoPairs/pair76.mp4\n"
     ]
    },
    {
     "name": "stderr",
     "output_type": "stream",
     "text": [
      "\n",
      "100%|██████████| 460/460 [00:42<00:00, 10.90it/s]\n"
     ]
    },
    {
     "name": "stdout",
     "output_type": "stream",
     "text": [
      "[MoviePy] Done.\n",
      "[MoviePy] >>>> Video ready: videoPairs/pair76.mp4 \n",
      "\n",
      "[MoviePy] >>>> Building video videoPairs/pair77.mp4\n",
      "[MoviePy] Writing audio in pair77TEMP_MPY_wvf_snd.mp3\n"
     ]
    },
    {
     "name": "stderr",
     "output_type": "stream",
     "text": [
      "100%|██████████| 338/338 [00:02<00:00, 170.68it/s]"
     ]
    },
    {
     "name": "stdout",
     "output_type": "stream",
     "text": [
      "[MoviePy] Done.\n",
      "[MoviePy] Writing video videoPairs/pair77.mp4\n"
     ]
    },
    {
     "name": "stderr",
     "output_type": "stream",
     "text": [
      "\n",
      "100%|██████████| 460/460 [00:41<00:00,  9.36it/s]\n"
     ]
    },
    {
     "name": "stdout",
     "output_type": "stream",
     "text": [
      "[MoviePy] Done.\n",
      "[MoviePy] >>>> Video ready: videoPairs/pair77.mp4 \n",
      "\n",
      "[MoviePy] >>>> Building video videoPairs/pair78.mp4\n",
      "[MoviePy] Writing audio in pair78TEMP_MPY_wvf_snd.mp3\n"
     ]
    },
    {
     "name": "stderr",
     "output_type": "stream",
     "text": [
      "100%|██████████| 338/338 [00:01<00:00, 210.67it/s]"
     ]
    },
    {
     "name": "stdout",
     "output_type": "stream",
     "text": [
      "[MoviePy] Done.\n",
      "[MoviePy] Writing video videoPairs/pair78.mp4\n"
     ]
    },
    {
     "name": "stderr",
     "output_type": "stream",
     "text": [
      "\n",
      "100%|██████████| 460/460 [00:39<00:00, 12.64it/s]\n"
     ]
    },
    {
     "name": "stdout",
     "output_type": "stream",
     "text": [
      "[MoviePy] Done.\n",
      "[MoviePy] >>>> Video ready: videoPairs/pair78.mp4 \n",
      "\n",
      "[MoviePy] >>>> Building video videoPairs/pair79.mp4\n",
      "[MoviePy] Writing audio in pair79TEMP_MPY_wvf_snd.mp3\n"
     ]
    },
    {
     "name": "stderr",
     "output_type": "stream",
     "text": [
      "100%|██████████| 338/338 [00:01<00:00, 181.17it/s]"
     ]
    },
    {
     "name": "stdout",
     "output_type": "stream",
     "text": [
      "[MoviePy] Done.\n",
      "[MoviePy] Writing video videoPairs/pair79.mp4\n"
     ]
    },
    {
     "name": "stderr",
     "output_type": "stream",
     "text": [
      "\n",
      "100%|██████████| 460/460 [00:37<00:00, 12.53it/s]\n"
     ]
    },
    {
     "name": "stdout",
     "output_type": "stream",
     "text": [
      "[MoviePy] Done.\n",
      "[MoviePy] >>>> Video ready: videoPairs/pair79.mp4 \n",
      "\n",
      "[MoviePy] >>>> Building video videoPairs/pair80.mp4\n",
      "[MoviePy] Writing audio in pair80TEMP_MPY_wvf_snd.mp3\n"
     ]
    },
    {
     "name": "stderr",
     "output_type": "stream",
     "text": [
      "100%|██████████| 338/338 [00:01<00:00, 187.66it/s]"
     ]
    },
    {
     "name": "stdout",
     "output_type": "stream",
     "text": [
      "[MoviePy] Done.\n",
      "[MoviePy] Writing video videoPairs/pair80.mp4\n"
     ]
    },
    {
     "name": "stderr",
     "output_type": "stream",
     "text": [
      "\n",
      "100%|██████████| 460/460 [00:37<00:00, 12.58it/s]\n"
     ]
    },
    {
     "name": "stdout",
     "output_type": "stream",
     "text": [
      "[MoviePy] Done.\n",
      "[MoviePy] >>>> Video ready: videoPairs/pair80.mp4 \n",
      "\n",
      "[MoviePy] >>>> Building video videoPairs/pair81.mp4\n",
      "[MoviePy] Writing audio in pair81TEMP_MPY_wvf_snd.mp3\n"
     ]
    },
    {
     "name": "stderr",
     "output_type": "stream",
     "text": [
      "100%|██████████| 338/338 [00:01<00:00, 186.47it/s]"
     ]
    },
    {
     "name": "stdout",
     "output_type": "stream",
     "text": [
      "[MoviePy] Done.\n",
      "[MoviePy] Writing video videoPairs/pair81.mp4\n"
     ]
    },
    {
     "name": "stderr",
     "output_type": "stream",
     "text": [
      "\n",
      "100%|██████████| 460/460 [00:36<00:00, 10.93it/s]\n"
     ]
    },
    {
     "name": "stdout",
     "output_type": "stream",
     "text": [
      "[MoviePy] Done.\n",
      "[MoviePy] >>>> Video ready: videoPairs/pair81.mp4 \n",
      "\n",
      "[MoviePy] >>>> Building video videoPairs/pair82.mp4\n",
      "[MoviePy] Writing audio in pair82TEMP_MPY_wvf_snd.mp3\n"
     ]
    },
    {
     "name": "stderr",
     "output_type": "stream",
     "text": [
      "100%|██████████| 338/338 [00:01<00:00, 192.63it/s]"
     ]
    },
    {
     "name": "stdout",
     "output_type": "stream",
     "text": [
      "[MoviePy] Done.\n",
      "[MoviePy] Writing video videoPairs/pair82.mp4\n"
     ]
    },
    {
     "name": "stderr",
     "output_type": "stream",
     "text": [
      "\n",
      "100%|██████████| 460/460 [00:43<00:00, 10.82it/s]\n"
     ]
    },
    {
     "name": "stdout",
     "output_type": "stream",
     "text": [
      "[MoviePy] Done.\n",
      "[MoviePy] >>>> Video ready: videoPairs/pair82.mp4 \n",
      "\n",
      "[MoviePy] >>>> Building video videoPairs/pair83.mp4\n",
      "[MoviePy] Writing audio in pair83TEMP_MPY_wvf_snd.mp3\n"
     ]
    },
    {
     "name": "stderr",
     "output_type": "stream",
     "text": [
      "100%|██████████| 338/338 [00:02<00:00, 138.26it/s]"
     ]
    },
    {
     "name": "stdout",
     "output_type": "stream",
     "text": [
      "[MoviePy] Done.\n",
      "[MoviePy] Writing video videoPairs/pair83.mp4\n"
     ]
    },
    {
     "name": "stderr",
     "output_type": "stream",
     "text": [
      "\n",
      "100%|█████████▉| 383/384 [00:37<00:00, 10.21it/s]\n"
     ]
    },
    {
     "name": "stdout",
     "output_type": "stream",
     "text": [
      "[MoviePy] Done.\n",
      "[MoviePy] >>>> Video ready: videoPairs/pair83.mp4 \n",
      "\n",
      "[MoviePy] >>>> Building video videoPairs/pair84.mp4\n",
      "[MoviePy] Writing audio in pair84TEMP_MPY_wvf_snd.mp3\n"
     ]
    },
    {
     "name": "stderr",
     "output_type": "stream",
     "text": [
      "100%|██████████| 338/338 [00:02<00:00, 147.72it/s]"
     ]
    },
    {
     "name": "stdout",
     "output_type": "stream",
     "text": [
      "[MoviePy] Done.\n",
      "[MoviePy] Writing video videoPairs/pair84.mp4\n"
     ]
    },
    {
     "name": "stderr",
     "output_type": "stream",
     "text": [
      "\n",
      "100%|██████████| 460/460 [00:45<00:00, 13.34it/s]\n"
     ]
    },
    {
     "name": "stdout",
     "output_type": "stream",
     "text": [
      "[MoviePy] Done.\n",
      "[MoviePy] >>>> Video ready: videoPairs/pair84.mp4 \n",
      "\n",
      "[MoviePy] >>>> Building video videoPairs/pair85.mp4\n",
      "[MoviePy] Writing audio in pair85TEMP_MPY_wvf_snd.mp3\n"
     ]
    },
    {
     "name": "stderr",
     "output_type": "stream",
     "text": [
      "100%|██████████| 338/338 [00:01<00:00, 181.36it/s]"
     ]
    },
    {
     "name": "stdout",
     "output_type": "stream",
     "text": [
      "[MoviePy] Done.\n",
      "[MoviePy] Writing video videoPairs/pair85.mp4\n"
     ]
    },
    {
     "name": "stderr",
     "output_type": "stream",
     "text": [
      "\n",
      "100%|██████████| 460/460 [00:42<00:00, 10.85it/s]\n"
     ]
    },
    {
     "name": "stdout",
     "output_type": "stream",
     "text": [
      "[MoviePy] Done.\n",
      "[MoviePy] >>>> Video ready: videoPairs/pair85.mp4 \n",
      "\n",
      "[MoviePy] >>>> Building video videoPairs/pair86.mp4\n",
      "[MoviePy] Writing audio in pair86TEMP_MPY_wvf_snd.mp3\n"
     ]
    },
    {
     "name": "stderr",
     "output_type": "stream",
     "text": [
      "100%|██████████| 338/338 [00:01<00:00, 205.65it/s]"
     ]
    },
    {
     "name": "stdout",
     "output_type": "stream",
     "text": [
      "[MoviePy] Done.\n"
     ]
    },
    {
     "name": "stderr",
     "output_type": "stream",
     "text": [
      "\n"
     ]
    },
    {
     "name": "stdout",
     "output_type": "stream",
     "text": [
      "[MoviePy] Writing video videoPairs/pair86.mp4\n"
     ]
    },
    {
     "name": "stderr",
     "output_type": "stream",
     "text": [
      "100%|██████████| 460/460 [00:48<00:00,  9.58it/s]\n"
     ]
    },
    {
     "name": "stdout",
     "output_type": "stream",
     "text": [
      "[MoviePy] Done.\n",
      "[MoviePy] >>>> Video ready: videoPairs/pair86.mp4 \n",
      "\n",
      "[MoviePy] >>>> Building video videoPairs/pair87.mp4\n",
      "[MoviePy] Writing audio in pair87TEMP_MPY_wvf_snd.mp3\n"
     ]
    },
    {
     "name": "stderr",
     "output_type": "stream",
     "text": [
      "100%|██████████| 338/338 [00:02<00:00, 143.90it/s]"
     ]
    },
    {
     "name": "stdout",
     "output_type": "stream",
     "text": [
      "[MoviePy] Done.\n",
      "[MoviePy] Writing video videoPairs/pair87.mp4\n"
     ]
    },
    {
     "name": "stderr",
     "output_type": "stream",
     "text": [
      "\n",
      "100%|██████████| 460/460 [00:45<00:00, 11.17it/s]\n"
     ]
    },
    {
     "name": "stdout",
     "output_type": "stream",
     "text": [
      "[MoviePy] Done.\n",
      "[MoviePy] >>>> Video ready: videoPairs/pair87.mp4 \n",
      "\n",
      "[MoviePy] >>>> Building video videoPairs/pair88.mp4\n",
      "[MoviePy] Writing audio in pair88TEMP_MPY_wvf_snd.mp3\n"
     ]
    },
    {
     "name": "stderr",
     "output_type": "stream",
     "text": [
      "100%|██████████| 338/338 [00:02<00:00, 154.20it/s]"
     ]
    },
    {
     "name": "stdout",
     "output_type": "stream",
     "text": [
      "[MoviePy] Done.\n",
      "[MoviePy] Writing video videoPairs/pair88.mp4\n"
     ]
    },
    {
     "name": "stderr",
     "output_type": "stream",
     "text": [
      "\n",
      "100%|█████████▉| 383/384 [00:39<00:00, 10.71it/s]\n"
     ]
    },
    {
     "name": "stdout",
     "output_type": "stream",
     "text": [
      "[MoviePy] Done.\n",
      "[MoviePy] >>>> Video ready: videoPairs/pair88.mp4 \n",
      "\n",
      "[MoviePy] >>>> Building video videoPairs/pair89.mp4\n",
      "[MoviePy] Writing audio in pair89TEMP_MPY_wvf_snd.mp3\n"
     ]
    },
    {
     "name": "stderr",
     "output_type": "stream",
     "text": [
      "100%|██████████| 338/338 [00:01<00:00, 181.69it/s]"
     ]
    },
    {
     "name": "stdout",
     "output_type": "stream",
     "text": [
      "[MoviePy] Done.\n",
      "[MoviePy] Writing video videoPairs/pair89.mp4\n"
     ]
    },
    {
     "name": "stderr",
     "output_type": "stream",
     "text": [
      "\n",
      "100%|██████████| 460/460 [00:42<00:00, 10.80it/s]\n"
     ]
    },
    {
     "name": "stdout",
     "output_type": "stream",
     "text": [
      "[MoviePy] Done.\n",
      "[MoviePy] >>>> Video ready: videoPairs/pair89.mp4 \n",
      "\n",
      "[MoviePy] >>>> Building video videoPairs/pair90.mp4\n",
      "[MoviePy] Writing audio in pair90TEMP_MPY_wvf_snd.mp3\n"
     ]
    },
    {
     "name": "stderr",
     "output_type": "stream",
     "text": [
      "100%|██████████| 338/338 [00:02<00:00, 145.28it/s]"
     ]
    },
    {
     "name": "stdout",
     "output_type": "stream",
     "text": [
      "[MoviePy] Done.\n",
      "[MoviePy] Writing video videoPairs/pair90.mp4\n"
     ]
    },
    {
     "name": "stderr",
     "output_type": "stream",
     "text": [
      "\n",
      "100%|██████████| 460/460 [00:41<00:00, 11.22it/s]\n"
     ]
    },
    {
     "name": "stdout",
     "output_type": "stream",
     "text": [
      "[MoviePy] Done.\n",
      "[MoviePy] >>>> Video ready: videoPairs/pair90.mp4 \n",
      "\n",
      "[MoviePy] >>>> Building video videoPairs/pair91.mp4\n",
      "[MoviePy] Writing audio in pair91TEMP_MPY_wvf_snd.mp3\n"
     ]
    },
    {
     "name": "stderr",
     "output_type": "stream",
     "text": [
      "100%|██████████| 338/338 [00:01<00:00, 213.50it/s]"
     ]
    },
    {
     "name": "stdout",
     "output_type": "stream",
     "text": [
      "[MoviePy] Done.\n",
      "[MoviePy] Writing video videoPairs/pair91.mp4\n"
     ]
    },
    {
     "name": "stderr",
     "output_type": "stream",
     "text": [
      "\n",
      "100%|██████████| 460/460 [00:40<00:00, 11.40it/s]\n"
     ]
    },
    {
     "name": "stdout",
     "output_type": "stream",
     "text": [
      "[MoviePy] Done.\n",
      "[MoviePy] >>>> Video ready: videoPairs/pair91.mp4 \n",
      "\n",
      "[MoviePy] >>>> Building video videoPairs/pair92.mp4\n",
      "[MoviePy] Writing audio in pair92TEMP_MPY_wvf_snd.mp3\n"
     ]
    },
    {
     "name": "stderr",
     "output_type": "stream",
     "text": [
      "100%|██████████| 338/338 [00:01<00:00, 211.57it/s]"
     ]
    },
    {
     "name": "stdout",
     "output_type": "stream",
     "text": [
      "[MoviePy] Done.\n",
      "[MoviePy] Writing video videoPairs/pair92.mp4\n"
     ]
    },
    {
     "name": "stderr",
     "output_type": "stream",
     "text": [
      "\n",
      "100%|██████████| 460/460 [00:46<00:00, 11.47it/s]\n"
     ]
    },
    {
     "name": "stdout",
     "output_type": "stream",
     "text": [
      "[MoviePy] Done.\n",
      "[MoviePy] >>>> Video ready: videoPairs/pair92.mp4 \n",
      "\n",
      "[MoviePy] >>>> Building video videoPairs/pair93.mp4\n",
      "[MoviePy] Writing audio in pair93TEMP_MPY_wvf_snd.mp3\n"
     ]
    },
    {
     "name": "stderr",
     "output_type": "stream",
     "text": [
      "100%|██████████| 338/338 [00:01<00:00, 187.00it/s]"
     ]
    },
    {
     "name": "stdout",
     "output_type": "stream",
     "text": [
      "[MoviePy] Done.\n",
      "[MoviePy] Writing video videoPairs/pair93.mp4\n"
     ]
    },
    {
     "name": "stderr",
     "output_type": "stream",
     "text": [
      "\n",
      "100%|██████████| 460/460 [00:43<00:00, 10.67it/s]\n"
     ]
    },
    {
     "name": "stdout",
     "output_type": "stream",
     "text": [
      "[MoviePy] Done.\n",
      "[MoviePy] >>>> Video ready: videoPairs/pair93.mp4 \n",
      "\n",
      "[MoviePy] >>>> Building video videoPairs/pair94.mp4\n",
      "[MoviePy] Writing audio in pair94TEMP_MPY_wvf_snd.mp3\n"
     ]
    },
    {
     "name": "stderr",
     "output_type": "stream",
     "text": [
      "100%|██████████| 338/338 [00:02<00:00, 144.10it/s]"
     ]
    },
    {
     "name": "stdout",
     "output_type": "stream",
     "text": [
      "[MoviePy] Done.\n",
      "[MoviePy] Writing video videoPairs/pair94.mp4\n"
     ]
    },
    {
     "name": "stderr",
     "output_type": "stream",
     "text": [
      "\n",
      "100%|██████████| 460/460 [00:46<00:00,  9.91it/s]\n"
     ]
    },
    {
     "name": "stdout",
     "output_type": "stream",
     "text": [
      "[MoviePy] Done.\n",
      "[MoviePy] >>>> Video ready: videoPairs/pair94.mp4 \n",
      "\n",
      "[MoviePy] >>>> Building video videoPairs/pair95.mp4\n",
      "[MoviePy] Writing audio in pair95TEMP_MPY_wvf_snd.mp3\n"
     ]
    },
    {
     "name": "stderr",
     "output_type": "stream",
     "text": [
      "100%|██████████| 338/338 [00:01<00:00, 184.66it/s]\n"
     ]
    },
    {
     "name": "stdout",
     "output_type": "stream",
     "text": [
      "[MoviePy] Done.\n",
      "[MoviePy] Writing video videoPairs/pair95.mp4\n"
     ]
    },
    {
     "name": "stderr",
     "output_type": "stream",
     "text": [
      "100%|██████████| 455/455 [00:44<00:00, 10.20it/s]\n"
     ]
    },
    {
     "name": "stdout",
     "output_type": "stream",
     "text": [
      "[MoviePy] Done.\n",
      "[MoviePy] >>>> Video ready: videoPairs/pair95.mp4 \n",
      "\n",
      "[MoviePy] >>>> Building video videoPairs/pair96.mp4\n",
      "[MoviePy] Writing audio in pair96TEMP_MPY_wvf_snd.mp3\n"
     ]
    },
    {
     "name": "stderr",
     "output_type": "stream",
     "text": [
      "100%|██████████| 338/338 [00:01<00:00, 197.92it/s]"
     ]
    },
    {
     "name": "stdout",
     "output_type": "stream",
     "text": [
      "[MoviePy] Done.\n",
      "[MoviePy] Writing video videoPairs/pair96.mp4\n"
     ]
    },
    {
     "name": "stderr",
     "output_type": "stream",
     "text": [
      "\n",
      "100%|██████████| 460/460 [00:45<00:00,  9.26it/s]\n"
     ]
    },
    {
     "name": "stdout",
     "output_type": "stream",
     "text": [
      "[MoviePy] Done.\n",
      "[MoviePy] >>>> Video ready: videoPairs/pair96.mp4 \n",
      "\n",
      "[MoviePy] >>>> Building video videoPairs/pair97.mp4\n",
      "[MoviePy] Writing audio in pair97TEMP_MPY_wvf_snd.mp3\n"
     ]
    },
    {
     "name": "stderr",
     "output_type": "stream",
     "text": [
      "100%|██████████| 338/338 [00:01<00:00, 175.59it/s]"
     ]
    },
    {
     "name": "stdout",
     "output_type": "stream",
     "text": [
      "[MoviePy] Done.\n",
      "[MoviePy] Writing video videoPairs/pair97.mp4\n"
     ]
    },
    {
     "name": "stderr",
     "output_type": "stream",
     "text": [
      "\n",
      "100%|██████████| 460/460 [00:49<00:00,  9.37it/s]\n"
     ]
    },
    {
     "name": "stdout",
     "output_type": "stream",
     "text": [
      "[MoviePy] Done.\n",
      "[MoviePy] >>>> Video ready: videoPairs/pair97.mp4 \n",
      "\n",
      "[MoviePy] >>>> Building video videoPairs/pair98.mp4\n",
      "[MoviePy] Writing audio in pair98TEMP_MPY_wvf_snd.mp3\n"
     ]
    },
    {
     "name": "stderr",
     "output_type": "stream",
     "text": [
      "100%|██████████| 338/338 [00:01<00:00, 172.55it/s]\n"
     ]
    },
    {
     "name": "stdout",
     "output_type": "stream",
     "text": [
      "[MoviePy] Done.\n",
      "[MoviePy] Writing video videoPairs/pair98.mp4\n"
     ]
    },
    {
     "name": "stderr",
     "output_type": "stream",
     "text": [
      "100%|██████████| 460/460 [00:42<00:00, 10.77it/s]\n"
     ]
    },
    {
     "name": "stdout",
     "output_type": "stream",
     "text": [
      "[MoviePy] Done.\n",
      "[MoviePy] >>>> Video ready: videoPairs/pair98.mp4 \n",
      "\n",
      "[MoviePy] >>>> Building video videoPairs/pair99.mp4\n",
      "[MoviePy] Writing audio in pair99TEMP_MPY_wvf_snd.mp3\n"
     ]
    },
    {
     "name": "stderr",
     "output_type": "stream",
     "text": [
      "100%|██████████| 338/338 [00:01<00:00, 211.79it/s]"
     ]
    },
    {
     "name": "stdout",
     "output_type": "stream",
     "text": [
      "[MoviePy] Done.\n",
      "[MoviePy] Writing video videoPairs/pair99.mp4\n"
     ]
    },
    {
     "name": "stderr",
     "output_type": "stream",
     "text": [
      "\n",
      "100%|██████████| 460/460 [00:45<00:00, 10.04it/s]\n"
     ]
    },
    {
     "name": "stdout",
     "output_type": "stream",
     "text": [
      "[MoviePy] Done.\n",
      "[MoviePy] >>>> Video ready: videoPairs/pair99.mp4 \n",
      "\n"
     ]
    },
    {
     "data": {
      "text/plain": [
       "('7ZnijRlK5-E.000.mp4', 'zEyRyTnIw5I.004.mp4')"
      ]
     },
     "execution_count": 20,
     "metadata": {},
     "output_type": "execute_result"
    }
   ],
   "source": [
    "select_pairs()"
   ]
  },
  {
   "cell_type": "code",
   "execution_count": 29,
   "metadata": {
    "scrolled": true
   },
   "outputs": [],
   "source": [
    "for pair in range(len(DF100)):\n",
    "\n",
    "    pair = DF100.iloc[pair]\n",
    "\n",
    "    video_pair = pair['videoPair']"
   ]
  },
  {
   "cell_type": "code",
   "execution_count": 30,
   "metadata": {},
   "outputs": [
    {
     "data": {
      "text/plain": [
       "'videoPairs/pair99.mp4'"
      ]
     },
     "execution_count": 30,
     "metadata": {},
     "output_type": "execute_result"
    }
   ],
   "source": [
    "video_pair"
   ]
  },
  {
   "cell_type": "code",
   "execution_count": 27,
   "metadata": {},
   "outputs": [
    {
     "data": {
      "text/html": [
       "<div>\n",
       "<style scoped>\n",
       "    .dataframe tbody tr th:only-of-type {\n",
       "        vertical-align: middle;\n",
       "    }\n",
       "\n",
       "    .dataframe tbody tr th {\n",
       "        vertical-align: top;\n",
       "    }\n",
       "\n",
       "    .dataframe thead th {\n",
       "        text-align: right;\n",
       "    }\n",
       "</style>\n",
       "<table border=\"1\" class=\"dataframe\">\n",
       "  <thead>\n",
       "    <tr style=\"text-align: right;\">\n",
       "      <th></th>\n",
       "      <th>Unnamed: 0</th>\n",
       "      <th>Unnamed: 0.1</th>\n",
       "      <th>hit_id</th>\n",
       "      <th>videoLeft</th>\n",
       "      <th>videoRight</th>\n",
       "      <th>friendly</th>\n",
       "      <th>authentic</th>\n",
       "      <th>organized</th>\n",
       "      <th>comfortable</th>\n",
       "      <th>imaginative</th>\n",
       "      <th>interview</th>\n",
       "      <th>videoPair</th>\n",
       "    </tr>\n",
       "  </thead>\n",
       "  <tbody>\n",
       "    <tr>\n",
       "      <th>0</th>\n",
       "      <td>0</td>\n",
       "      <td>122098</td>\n",
       "      <td>33NOQL7T9PZT4OBV83J1GSQARELZ82</td>\n",
       "      <td>ZIk7N-xHvF4.004.mp4</td>\n",
       "      <td>io0aNQE8En8.003.mp4</td>\n",
       "      <td>LEFT</td>\n",
       "      <td>LEFT</td>\n",
       "      <td>LEFT</td>\n",
       "      <td>LEFT</td>\n",
       "      <td>LEFT</td>\n",
       "      <td>LEFT</td>\n",
       "      <td>videoPairs/pair0.mp4</td>\n",
       "    </tr>\n",
       "    <tr>\n",
       "      <th>1</th>\n",
       "      <td>1</td>\n",
       "      <td>4138</td>\n",
       "      <td>3R15W654VETF53UNFW9SU40C61PLQM</td>\n",
       "      <td>_Py_lytyY5A.005.mp4</td>\n",
       "      <td>j5fXaXrNPoA.003.mp4</td>\n",
       "      <td>LEFT</td>\n",
       "      <td>DON'T KNOW</td>\n",
       "      <td>RIGHT</td>\n",
       "      <td>DON'T KNOW</td>\n",
       "      <td>LEFT</td>\n",
       "      <td>RIGHT</td>\n",
       "      <td>videoPairs/pair1.mp4</td>\n",
       "    </tr>\n",
       "    <tr>\n",
       "      <th>2</th>\n",
       "      <td>2</td>\n",
       "      <td>154265</td>\n",
       "      <td>3ZURAPD289N5O70A86GFYQNK1UR1FK</td>\n",
       "      <td>VuadgOz6T7s.000.mp4</td>\n",
       "      <td>vhugKRUnd-c.005.mp4</td>\n",
       "      <td>RIGHT</td>\n",
       "      <td>DON'T KNOW</td>\n",
       "      <td>RIGHT</td>\n",
       "      <td>RIGHT</td>\n",
       "      <td>DON'T KNOW</td>\n",
       "      <td>RIGHT</td>\n",
       "      <td>videoPairs/pair2.mp4</td>\n",
       "    </tr>\n",
       "    <tr>\n",
       "      <th>3</th>\n",
       "      <td>3</td>\n",
       "      <td>165468</td>\n",
       "      <td>3I6NF2WGIHWAQPXOKDO9J10DEYEG5G</td>\n",
       "      <td>ASDpn9yOYAo.004.mp4</td>\n",
       "      <td>FvjIziLzffo.004.mp4</td>\n",
       "      <td>RIGHT</td>\n",
       "      <td>LEFT</td>\n",
       "      <td>RIGHT</td>\n",
       "      <td>LEFT</td>\n",
       "      <td>RIGHT</td>\n",
       "      <td>RIGHT</td>\n",
       "      <td>videoPairs/pair3.mp4</td>\n",
       "    </tr>\n",
       "    <tr>\n",
       "      <th>4</th>\n",
       "      <td>4</td>\n",
       "      <td>57270</td>\n",
       "      <td>3W31J70BATW0RW2MPEWWVZYGDVVCKZ</td>\n",
       "      <td>tcmYlyeqwuI.002.mp4</td>\n",
       "      <td>sIfHl2N8Hkg.004.mp4</td>\n",
       "      <td>DON'T KNOW</td>\n",
       "      <td>RIGHT</td>\n",
       "      <td>LEFT</td>\n",
       "      <td>LEFT</td>\n",
       "      <td>RIGHT</td>\n",
       "      <td>DON'T KNOW</td>\n",
       "      <td>videoPairs/pair4.mp4</td>\n",
       "    </tr>\n",
       "    <tr>\n",
       "      <th>5</th>\n",
       "      <td>5</td>\n",
       "      <td>137816</td>\n",
       "      <td>39N6W9XWREN8SD78VFT6UYY6937GYL</td>\n",
       "      <td>NF8nb3SQPNg.002.mp4</td>\n",
       "      <td>jz9kgvYbBYA.005.mp4</td>\n",
       "      <td>RIGHT</td>\n",
       "      <td>RIGHT</td>\n",
       "      <td>RIGHT</td>\n",
       "      <td>RIGHT</td>\n",
       "      <td>RIGHT</td>\n",
       "      <td>RIGHT</td>\n",
       "      <td>videoPairs/pair5.mp4</td>\n",
       "    </tr>\n",
       "    <tr>\n",
       "      <th>6</th>\n",
       "      <td>6</td>\n",
       "      <td>106793</td>\n",
       "      <td>3CVDZS288I02KWMZ1SZDIIBNZFPMF0</td>\n",
       "      <td>c2LeNguVNrI.002.mp4</td>\n",
       "      <td>7ZnijRlK5-E.005.mp4</td>\n",
       "      <td>LEFT</td>\n",
       "      <td>DON'T KNOW</td>\n",
       "      <td>RIGHT</td>\n",
       "      <td>RIGHT</td>\n",
       "      <td>DON'T KNOW</td>\n",
       "      <td>LEFT</td>\n",
       "      <td>videoPairs/pair6.mp4</td>\n",
       "    </tr>\n",
       "    <tr>\n",
       "      <th>7</th>\n",
       "      <td>7</td>\n",
       "      <td>131070</td>\n",
       "      <td>3N3WJQXELTQYDKS2DLJRYM29Q5TL2A</td>\n",
       "      <td>S1AEj1kO5dc.000.mp4</td>\n",
       "      <td>mpXOSY5dW7c.005.mp4</td>\n",
       "      <td>RIGHT</td>\n",
       "      <td>RIGHT</td>\n",
       "      <td>RIGHT</td>\n",
       "      <td>DON'T KNOW</td>\n",
       "      <td>DON'T KNOW</td>\n",
       "      <td>RIGHT</td>\n",
       "      <td>videoPairs/pair7.mp4</td>\n",
       "    </tr>\n",
       "    <tr>\n",
       "      <th>8</th>\n",
       "      <td>8</td>\n",
       "      <td>45442</td>\n",
       "      <td>3IKDQS3DQF09L1CYPBBKIJJ3LRWICK</td>\n",
       "      <td>CRLsCyMfskE.003.mp4</td>\n",
       "      <td>FNHMXPaHll0.002.mp4</td>\n",
       "      <td>LEFT</td>\n",
       "      <td>LEFT</td>\n",
       "      <td>RIGHT</td>\n",
       "      <td>LEFT</td>\n",
       "      <td>RIGHT</td>\n",
       "      <td>LEFT</td>\n",
       "      <td>videoPairs/pair8.mp4</td>\n",
       "    </tr>\n",
       "    <tr>\n",
       "      <th>9</th>\n",
       "      <td>9</td>\n",
       "      <td>139753</td>\n",
       "      <td>3G4VVJO6P0GJLLBQUJI2FZXNCFMPK4</td>\n",
       "      <td>4nir0YtjHVs.001.mp4</td>\n",
       "      <td>BOOMkDl8JwA.005.mp4</td>\n",
       "      <td>RIGHT</td>\n",
       "      <td>RIGHT</td>\n",
       "      <td>LEFT</td>\n",
       "      <td>LEFT</td>\n",
       "      <td>LEFT</td>\n",
       "      <td>LEFT</td>\n",
       "      <td>videoPairs/pair9.mp4</td>\n",
       "    </tr>\n",
       "    <tr>\n",
       "      <th>10</th>\n",
       "      <td>10</td>\n",
       "      <td>178887</td>\n",
       "      <td>3IKDQS3DQF09L1CYPBBKIJJ3LS2CIM</td>\n",
       "      <td>RF3JnDmv8WY.005.mp4</td>\n",
       "      <td>YGrCXe2-fVk.004.mp4</td>\n",
       "      <td>RIGHT</td>\n",
       "      <td>LEFT</td>\n",
       "      <td>RIGHT</td>\n",
       "      <td>RIGHT</td>\n",
       "      <td>LEFT</td>\n",
       "      <td>RIGHT</td>\n",
       "      <td>videoPairs/pair10.mp4</td>\n",
       "    </tr>\n",
       "    <tr>\n",
       "      <th>11</th>\n",
       "      <td>11</td>\n",
       "      <td>76791</td>\n",
       "      <td>3MQKOF1EE3O1RO2HEOAA3GATL4EDWY</td>\n",
       "      <td>X1kqn3XDFRw.000.mp4</td>\n",
       "      <td>EelHLfeSJfM.004.mp4</td>\n",
       "      <td>LEFT</td>\n",
       "      <td>LEFT</td>\n",
       "      <td>LEFT</td>\n",
       "      <td>LEFT</td>\n",
       "      <td>RIGHT</td>\n",
       "      <td>LEFT</td>\n",
       "      <td>videoPairs/pair11.mp4</td>\n",
       "    </tr>\n",
       "    <tr>\n",
       "      <th>12</th>\n",
       "      <td>12</td>\n",
       "      <td>36588</td>\n",
       "      <td>3OEWW2KGQKBTMFTFN2J0MMX7I1WDO1</td>\n",
       "      <td>9mAw0B-mEPQ.001.mp4</td>\n",
       "      <td>vZPLbzF0aSg.001.mp4</td>\n",
       "      <td>LEFT</td>\n",
       "      <td>RIGHT</td>\n",
       "      <td>LEFT</td>\n",
       "      <td>LEFT</td>\n",
       "      <td>DON'T KNOW</td>\n",
       "      <td>LEFT</td>\n",
       "      <td>videoPairs/pair12.mp4</td>\n",
       "    </tr>\n",
       "    <tr>\n",
       "      <th>13</th>\n",
       "      <td>13</td>\n",
       "      <td>43914</td>\n",
       "      <td>3RWO3EJELI9HFKP4M9CKAK1O38ZP1C</td>\n",
       "      <td>JFKZEGDhcRs.003.mp4</td>\n",
       "      <td>dNXqs5HNijI.002.mp4</td>\n",
       "      <td>RIGHT</td>\n",
       "      <td>LEFT</td>\n",
       "      <td>RIGHT</td>\n",
       "      <td>RIGHT</td>\n",
       "      <td>RIGHT</td>\n",
       "      <td>LEFT</td>\n",
       "      <td>videoPairs/pair13.mp4</td>\n",
       "    </tr>\n",
       "    <tr>\n",
       "      <th>14</th>\n",
       "      <td>14</td>\n",
       "      <td>148239</td>\n",
       "      <td>3KTZHH2ONJFT5HCCTET78QU1C14M8R</td>\n",
       "      <td>jnEHHvlBgxE.001.mp4</td>\n",
       "      <td>Etfh8X-ECtY.004.mp4</td>\n",
       "      <td>RIGHT</td>\n",
       "      <td>RIGHT</td>\n",
       "      <td>RIGHT</td>\n",
       "      <td>RIGHT</td>\n",
       "      <td>DON'T KNOW</td>\n",
       "      <td>RIGHT</td>\n",
       "      <td>videoPairs/pair14.mp4</td>\n",
       "    </tr>\n",
       "    <tr>\n",
       "      <th>15</th>\n",
       "      <td>15</td>\n",
       "      <td>70804</td>\n",
       "      <td>3NBFJK3IOIIWYZ36PSK8S704VUQOG2</td>\n",
       "      <td>HP8f3oqJwz0.002.mp4</td>\n",
       "      <td>Nv0-x4K9YFI.003.mp4</td>\n",
       "      <td>RIGHT</td>\n",
       "      <td>LEFT</td>\n",
       "      <td>LEFT</td>\n",
       "      <td>RIGHT</td>\n",
       "      <td>RIGHT</td>\n",
       "      <td>LEFT</td>\n",
       "      <td>videoPairs/pair15.mp4</td>\n",
       "    </tr>\n",
       "    <tr>\n",
       "      <th>16</th>\n",
       "      <td>16</td>\n",
       "      <td>182892</td>\n",
       "      <td>3HEADTGN2QSID9LH6F0YM38JTLARVT</td>\n",
       "      <td>ZGox7tevC6A.005.mp4</td>\n",
       "      <td>41NNb7cucVo.003.mp4</td>\n",
       "      <td>RIGHT</td>\n",
       "      <td>RIGHT</td>\n",
       "      <td>RIGHT</td>\n",
       "      <td>LEFT</td>\n",
       "      <td>LEFT</td>\n",
       "      <td>RIGHT</td>\n",
       "      <td>videoPairs/pair16.mp4</td>\n",
       "    </tr>\n",
       "    <tr>\n",
       "      <th>17</th>\n",
       "      <td>17</td>\n",
       "      <td>177338</td>\n",
       "      <td>3XD2A6FGFOUWHH8RI3V7KVOIO509ST</td>\n",
       "      <td>A3StIKMjn4k.001.mp4</td>\n",
       "      <td>TPRQyuiNYmI.000.mp4</td>\n",
       "      <td>RIGHT</td>\n",
       "      <td>LEFT</td>\n",
       "      <td>LEFT</td>\n",
       "      <td>DON'T KNOW</td>\n",
       "      <td>RIGHT</td>\n",
       "      <td>LEFT</td>\n",
       "      <td>videoPairs/pair17.mp4</td>\n",
       "    </tr>\n",
       "    <tr>\n",
       "      <th>18</th>\n",
       "      <td>18</td>\n",
       "      <td>74202</td>\n",
       "      <td>3G9UA71JVWUZ4V18GCO9EY6PXX0J7E</td>\n",
       "      <td>J4GQm9j0JZ0.005.mp4</td>\n",
       "      <td>GquB5W7bzFo.003.mp4</td>\n",
       "      <td>LEFT</td>\n",
       "      <td>LEFT</td>\n",
       "      <td>LEFT</td>\n",
       "      <td>DON'T KNOW</td>\n",
       "      <td>DON'T KNOW</td>\n",
       "      <td>LEFT</td>\n",
       "      <td>videoPairs/pair18.mp4</td>\n",
       "    </tr>\n",
       "    <tr>\n",
       "      <th>19</th>\n",
       "      <td>19</td>\n",
       "      <td>7770</td>\n",
       "      <td>3TZDZ3Y0JT6WNX9X5KGNOU19YVK91M</td>\n",
       "      <td>UvX6ctu2ObM.000.mp4</td>\n",
       "      <td>AlEqtGWa43g.003.mp4</td>\n",
       "      <td>RIGHT</td>\n",
       "      <td>RIGHT</td>\n",
       "      <td>RIGHT</td>\n",
       "      <td>RIGHT</td>\n",
       "      <td>LEFT</td>\n",
       "      <td>RIGHT</td>\n",
       "      <td>videoPairs/pair19.mp4</td>\n",
       "    </tr>\n",
       "    <tr>\n",
       "      <th>20</th>\n",
       "      <td>20</td>\n",
       "      <td>174454</td>\n",
       "      <td>3ZVPAMTJWO3ZVCVMHK1CM2596GARGC</td>\n",
       "      <td>tvKUJujTUEo.003.mp4</td>\n",
       "      <td>cgp1OzTOq1o.005.mp4</td>\n",
       "      <td>RIGHT</td>\n",
       "      <td>RIGHT</td>\n",
       "      <td>DON'T KNOW</td>\n",
       "      <td>DON'T KNOW</td>\n",
       "      <td>LEFT</td>\n",
       "      <td>RIGHT</td>\n",
       "      <td>videoPairs/pair20.mp4</td>\n",
       "    </tr>\n",
       "    <tr>\n",
       "      <th>21</th>\n",
       "      <td>21</td>\n",
       "      <td>194697</td>\n",
       "      <td>3909MD9T20H488UMKUBU5A6EQ35FER</td>\n",
       "      <td>UD-8YYU7GZs.004.mp4</td>\n",
       "      <td>TJD__22fOr0.000.mp4</td>\n",
       "      <td>LEFT</td>\n",
       "      <td>LEFT</td>\n",
       "      <td>RIGHT</td>\n",
       "      <td>LEFT</td>\n",
       "      <td>LEFT</td>\n",
       "      <td>DON'T KNOW</td>\n",
       "      <td>videoPairs/pair21.mp4</td>\n",
       "    </tr>\n",
       "    <tr>\n",
       "      <th>22</th>\n",
       "      <td>22</td>\n",
       "      <td>5245</td>\n",
       "      <td>3P4C70TRMSHOSE09C04G0QWA0EHLGS</td>\n",
       "      <td>_QXI4n_FRN4.003.mp4</td>\n",
       "      <td>R-vly7LKotQ.000.mp4</td>\n",
       "      <td>RIGHT</td>\n",
       "      <td>RIGHT</td>\n",
       "      <td>LEFT</td>\n",
       "      <td>RIGHT</td>\n",
       "      <td>RIGHT</td>\n",
       "      <td>RIGHT</td>\n",
       "      <td>videoPairs/pair22.mp4</td>\n",
       "    </tr>\n",
       "    <tr>\n",
       "      <th>23</th>\n",
       "      <td>23</td>\n",
       "      <td>69392</td>\n",
       "      <td>36AZSFEYZ50VX24SAIE8MO3FBAVBVA</td>\n",
       "      <td>vMtF0akNUK4.002.mp4</td>\n",
       "      <td>N7oR6_oMBFk.004.mp4</td>\n",
       "      <td>LEFT</td>\n",
       "      <td>DON'T KNOW</td>\n",
       "      <td>RIGHT</td>\n",
       "      <td>LEFT</td>\n",
       "      <td>DON'T KNOW</td>\n",
       "      <td>RIGHT</td>\n",
       "      <td>videoPairs/pair23.mp4</td>\n",
       "    </tr>\n",
       "    <tr>\n",
       "      <th>24</th>\n",
       "      <td>24</td>\n",
       "      <td>140991</td>\n",
       "      <td>3MQY1YVHS4KM0B6QM8UXKJ64E232BA</td>\n",
       "      <td>AP0aklGHino.000.mp4</td>\n",
       "      <td>F1lAPYh4t3U.000.mp4</td>\n",
       "      <td>RIGHT</td>\n",
       "      <td>LEFT</td>\n",
       "      <td>LEFT</td>\n",
       "      <td>RIGHT</td>\n",
       "      <td>LEFT</td>\n",
       "      <td>LEFT</td>\n",
       "      <td>videoPairs/pair24.mp4</td>\n",
       "    </tr>\n",
       "    <tr>\n",
       "      <th>25</th>\n",
       "      <td>25</td>\n",
       "      <td>183275</td>\n",
       "      <td>3ZLW647WAMVHXG2D7FFR208SQ9232U</td>\n",
       "      <td>dRP8ZaAryro.004.mp4</td>\n",
       "      <td>xpSCu7PgJts.004.mp4</td>\n",
       "      <td>LEFT</td>\n",
       "      <td>LEFT</td>\n",
       "      <td>RIGHT</td>\n",
       "      <td>LEFT</td>\n",
       "      <td>LEFT</td>\n",
       "      <td>LEFT</td>\n",
       "      <td>videoPairs/pair25.mp4</td>\n",
       "    </tr>\n",
       "    <tr>\n",
       "      <th>26</th>\n",
       "      <td>26</td>\n",
       "      <td>29916</td>\n",
       "      <td>307FVKVSYSF91DIND5158WH6FYO47I</td>\n",
       "      <td>1q-N_zbsAg0.005.mp4</td>\n",
       "      <td>KIhpjwf5uAA.001.mp4</td>\n",
       "      <td>RIGHT</td>\n",
       "      <td>RIGHT</td>\n",
       "      <td>LEFT</td>\n",
       "      <td>RIGHT</td>\n",
       "      <td>LEFT</td>\n",
       "      <td>RIGHT</td>\n",
       "      <td>videoPairs/pair26.mp4</td>\n",
       "    </tr>\n",
       "    <tr>\n",
       "      <th>27</th>\n",
       "      <td>27</td>\n",
       "      <td>185994</td>\n",
       "      <td>3K3G488TR3813ER2N9TLDF4FKB8Q5M</td>\n",
       "      <td>LNM1i-a9q_A.004.mp4</td>\n",
       "      <td>oU7zAWm_01o.002.mp4</td>\n",
       "      <td>RIGHT</td>\n",
       "      <td>RIGHT</td>\n",
       "      <td>LEFT</td>\n",
       "      <td>DON'T KNOW</td>\n",
       "      <td>RIGHT</td>\n",
       "      <td>RIGHT</td>\n",
       "      <td>videoPairs/pair27.mp4</td>\n",
       "    </tr>\n",
       "    <tr>\n",
       "      <th>28</th>\n",
       "      <td>28</td>\n",
       "      <td>26790</td>\n",
       "      <td>3XAOZ9UYR0R2FWQJMMR9APRY842Q1L</td>\n",
       "      <td>XpY-cxkbYdo.005.mp4</td>\n",
       "      <td>EjhDyc8Oc6k.004.mp4</td>\n",
       "      <td>LEFT</td>\n",
       "      <td>LEFT</td>\n",
       "      <td>DON'T KNOW</td>\n",
       "      <td>LEFT</td>\n",
       "      <td>DON'T KNOW</td>\n",
       "      <td>RIGHT</td>\n",
       "      <td>videoPairs/pair28.mp4</td>\n",
       "    </tr>\n",
       "    <tr>\n",
       "      <th>29</th>\n",
       "      <td>29</td>\n",
       "      <td>88047</td>\n",
       "      <td>34YWR3PJ29AMH46DCHI1QS4H0I20XE</td>\n",
       "      <td>SI93csgHMTk.004.mp4</td>\n",
       "      <td>04oq2yrBwMg.004.mp4</td>\n",
       "      <td>DON'T KNOW</td>\n",
       "      <td>DON'T KNOW</td>\n",
       "      <td>DON'T KNOW</td>\n",
       "      <td>DON'T KNOW</td>\n",
       "      <td>DON'T KNOW</td>\n",
       "      <td>DON'T KNOW</td>\n",
       "      <td>videoPairs/pair29.mp4</td>\n",
       "    </tr>\n",
       "    <tr>\n",
       "      <th>...</th>\n",
       "      <td>...</td>\n",
       "      <td>...</td>\n",
       "      <td>...</td>\n",
       "      <td>...</td>\n",
       "      <td>...</td>\n",
       "      <td>...</td>\n",
       "      <td>...</td>\n",
       "      <td>...</td>\n",
       "      <td>...</td>\n",
       "      <td>...</td>\n",
       "      <td>...</td>\n",
       "      <td>...</td>\n",
       "    </tr>\n",
       "    <tr>\n",
       "      <th>70</th>\n",
       "      <td>70</td>\n",
       "      <td>74240</td>\n",
       "      <td>3D17ECOUOFVA8VKHOBFDXHYNYEF13O</td>\n",
       "      <td>p6UMx8dwHZQ.003.mp4</td>\n",
       "      <td>sDWJMBZ1mVA.003.mp4</td>\n",
       "      <td>LEFT</td>\n",
       "      <td>RIGHT</td>\n",
       "      <td>LEFT</td>\n",
       "      <td>RIGHT</td>\n",
       "      <td>LEFT</td>\n",
       "      <td>LEFT</td>\n",
       "      <td>videoPairs/pair70.mp4</td>\n",
       "    </tr>\n",
       "    <tr>\n",
       "      <th>71</th>\n",
       "      <td>71</td>\n",
       "      <td>143420</td>\n",
       "      <td>3XUSYT70IU18JY1WLHHPWL1PKPXD0A</td>\n",
       "      <td>nex61B854Ms.004.mp4</td>\n",
       "      <td>gZzB49daFfA.000.mp4</td>\n",
       "      <td>LEFT</td>\n",
       "      <td>LEFT</td>\n",
       "      <td>LEFT</td>\n",
       "      <td>RIGHT</td>\n",
       "      <td>RIGHT</td>\n",
       "      <td>DON'T KNOW</td>\n",
       "      <td>videoPairs/pair71.mp4</td>\n",
       "    </tr>\n",
       "    <tr>\n",
       "      <th>72</th>\n",
       "      <td>72</td>\n",
       "      <td>134971</td>\n",
       "      <td>3SR6AEG6W6TMS92JFLBOFYA7O3IYH0</td>\n",
       "      <td>KIhpjwf5uAA.003.mp4</td>\n",
       "      <td>t30ERiF6b50.001.mp4</td>\n",
       "      <td>LEFT</td>\n",
       "      <td>RIGHT</td>\n",
       "      <td>LEFT</td>\n",
       "      <td>LEFT</td>\n",
       "      <td>LEFT</td>\n",
       "      <td>RIGHT</td>\n",
       "      <td>videoPairs/pair72.mp4</td>\n",
       "    </tr>\n",
       "    <tr>\n",
       "      <th>73</th>\n",
       "      <td>73</td>\n",
       "      <td>95319</td>\n",
       "      <td>374UMBUHN6PZUFS9JNAOWQLCWBHCT6</td>\n",
       "      <td>_IS6GFmQYj4.003.mp4</td>\n",
       "      <td>sDWJMBZ1mVA.004.mp4</td>\n",
       "      <td>LEFT</td>\n",
       "      <td>DON'T KNOW</td>\n",
       "      <td>DON'T KNOW</td>\n",
       "      <td>LEFT</td>\n",
       "      <td>DON'T KNOW</td>\n",
       "      <td>LEFT</td>\n",
       "      <td>videoPairs/pair73.mp4</td>\n",
       "    </tr>\n",
       "    <tr>\n",
       "      <th>74</th>\n",
       "      <td>74</td>\n",
       "      <td>1897</td>\n",
       "      <td>3D0LPO3EACZWKQO6JY6EZ7780F9YOH</td>\n",
       "      <td>cZ6xhB5yhfY.001.mp4</td>\n",
       "      <td>-VTqcHNgH7M.001.mp4</td>\n",
       "      <td>RIGHT</td>\n",
       "      <td>DON'T KNOW</td>\n",
       "      <td>LEFT</td>\n",
       "      <td>DON'T KNOW</td>\n",
       "      <td>RIGHT</td>\n",
       "      <td>RIGHT</td>\n",
       "      <td>videoPairs/pair74.mp4</td>\n",
       "    </tr>\n",
       "    <tr>\n",
       "      <th>75</th>\n",
       "      <td>75</td>\n",
       "      <td>53327</td>\n",
       "      <td>3Q7TKIAPOUALGUQIAA38U5TDNV8DLZ</td>\n",
       "      <td>cT3oyHhUznw.000.mp4</td>\n",
       "      <td>jTkEWnuDnbA.001.mp4</td>\n",
       "      <td>RIGHT</td>\n",
       "      <td>LEFT</td>\n",
       "      <td>RIGHT</td>\n",
       "      <td>DON'T KNOW</td>\n",
       "      <td>DON'T KNOW</td>\n",
       "      <td>RIGHT</td>\n",
       "      <td>videoPairs/pair75.mp4</td>\n",
       "    </tr>\n",
       "    <tr>\n",
       "      <th>76</th>\n",
       "      <td>76</td>\n",
       "      <td>105824</td>\n",
       "      <td>3UAU495MIJSF3H419X9PWM1V42IOUF</td>\n",
       "      <td>dl9IT3OvI0o.000.mp4</td>\n",
       "      <td>R-vly7LKotQ.002.mp4</td>\n",
       "      <td>DON'T KNOW</td>\n",
       "      <td>DON'T KNOW</td>\n",
       "      <td>RIGHT</td>\n",
       "      <td>LEFT</td>\n",
       "      <td>LEFT</td>\n",
       "      <td>DON'T KNOW</td>\n",
       "      <td>videoPairs/pair76.mp4</td>\n",
       "    </tr>\n",
       "    <tr>\n",
       "      <th>77</th>\n",
       "      <td>77</td>\n",
       "      <td>82287</td>\n",
       "      <td>3EGKVCRQFXSC1WZXFT1STN79TSOBYC</td>\n",
       "      <td>Sdqg-jn_tBk.005.mp4</td>\n",
       "      <td>sf29orxf4X0.005.mp4</td>\n",
       "      <td>RIGHT</td>\n",
       "      <td>DON'T KNOW</td>\n",
       "      <td>LEFT</td>\n",
       "      <td>RIGHT</td>\n",
       "      <td>LEFT</td>\n",
       "      <td>DON'T KNOW</td>\n",
       "      <td>videoPairs/pair77.mp4</td>\n",
       "    </tr>\n",
       "    <tr>\n",
       "      <th>78</th>\n",
       "      <td>78</td>\n",
       "      <td>109316</td>\n",
       "      <td>30F94FBDNSKGKA035NETL6FUEPVBTA</td>\n",
       "      <td>8AnIttmflwI.000.mp4</td>\n",
       "      <td>7PYAn9njCHI.000.mp4</td>\n",
       "      <td>RIGHT</td>\n",
       "      <td>DON'T KNOW</td>\n",
       "      <td>RIGHT</td>\n",
       "      <td>RIGHT</td>\n",
       "      <td>RIGHT</td>\n",
       "      <td>RIGHT</td>\n",
       "      <td>videoPairs/pair78.mp4</td>\n",
       "    </tr>\n",
       "    <tr>\n",
       "      <th>79</th>\n",
       "      <td>79</td>\n",
       "      <td>127330</td>\n",
       "      <td>382GHPVPHTRR0UH0BTYFVF5QAXW348</td>\n",
       "      <td>Gg4OMtVe7lk.002.mp4</td>\n",
       "      <td>QNVsr2mGwGs.002.mp4</td>\n",
       "      <td>RIGHT</td>\n",
       "      <td>RIGHT</td>\n",
       "      <td>RIGHT</td>\n",
       "      <td>RIGHT</td>\n",
       "      <td>RIGHT</td>\n",
       "      <td>DON'T KNOW</td>\n",
       "      <td>videoPairs/pair79.mp4</td>\n",
       "    </tr>\n",
       "    <tr>\n",
       "      <th>80</th>\n",
       "      <td>80</td>\n",
       "      <td>58486</td>\n",
       "      <td>3XJOUITW8VR3OG2SO5BJGVAT0NNTQR</td>\n",
       "      <td>qoZwA4ESb7g.003.mp4</td>\n",
       "      <td>1cqwKxx6GF8.005.mp4</td>\n",
       "      <td>LEFT</td>\n",
       "      <td>DON'T KNOW</td>\n",
       "      <td>DON'T KNOW</td>\n",
       "      <td>LEFT</td>\n",
       "      <td>LEFT</td>\n",
       "      <td>LEFT</td>\n",
       "      <td>videoPairs/pair80.mp4</td>\n",
       "    </tr>\n",
       "    <tr>\n",
       "      <th>81</th>\n",
       "      <td>81</td>\n",
       "      <td>149156</td>\n",
       "      <td>3TTPFEFXCUKK9PSD92GWW7QEPKG6HH</td>\n",
       "      <td>9RfE2-aTvaM.005.mp4</td>\n",
       "      <td>3JzvXA-Zfbs.004.mp4</td>\n",
       "      <td>DON'T KNOW</td>\n",
       "      <td>LEFT</td>\n",
       "      <td>DON'T KNOW</td>\n",
       "      <td>LEFT</td>\n",
       "      <td>RIGHT</td>\n",
       "      <td>DON'T KNOW</td>\n",
       "      <td>videoPairs/pair81.mp4</td>\n",
       "    </tr>\n",
       "    <tr>\n",
       "      <th>82</th>\n",
       "      <td>82</td>\n",
       "      <td>173055</td>\n",
       "      <td>3APP19WN72E69TX2PWYEB7EDATV6GS</td>\n",
       "      <td>xq0-QVHxp-Q.003.mp4</td>\n",
       "      <td>knK0zyX8bS4.004.mp4</td>\n",
       "      <td>DON'T KNOW</td>\n",
       "      <td>RIGHT</td>\n",
       "      <td>LEFT</td>\n",
       "      <td>DON'T KNOW</td>\n",
       "      <td>DON'T KNOW</td>\n",
       "      <td>DON'T KNOW</td>\n",
       "      <td>videoPairs/pair82.mp4</td>\n",
       "    </tr>\n",
       "    <tr>\n",
       "      <th>83</th>\n",
       "      <td>83</td>\n",
       "      <td>154878</td>\n",
       "      <td>3S37Y8CWI90ORSJOLD9H0CGN8HR4WY</td>\n",
       "      <td>fiVORaERbP0.000.mp4</td>\n",
       "      <td>TmpP2fXeVtk.005.mp4</td>\n",
       "      <td>RIGHT</td>\n",
       "      <td>RIGHT</td>\n",
       "      <td>DON'T KNOW</td>\n",
       "      <td>LEFT</td>\n",
       "      <td>DON'T KNOW</td>\n",
       "      <td>RIGHT</td>\n",
       "      <td>videoPairs/pair83.mp4</td>\n",
       "    </tr>\n",
       "    <tr>\n",
       "      <th>84</th>\n",
       "      <td>84</td>\n",
       "      <td>148495</td>\n",
       "      <td>386T3MLZLOVW23554969ATNO9Y4803</td>\n",
       "      <td>YygvfVxOWP8.004.mp4</td>\n",
       "      <td>6JfSPPVUgIg.000.mp4</td>\n",
       "      <td>LEFT</td>\n",
       "      <td>DON'T KNOW</td>\n",
       "      <td>LEFT</td>\n",
       "      <td>LEFT</td>\n",
       "      <td>DON'T KNOW</td>\n",
       "      <td>RIGHT</td>\n",
       "      <td>videoPairs/pair84.mp4</td>\n",
       "    </tr>\n",
       "    <tr>\n",
       "      <th>85</th>\n",
       "      <td>85</td>\n",
       "      <td>107195</td>\n",
       "      <td>3CVBMEMMXCG3DP6ISCLO2LQAK587H9</td>\n",
       "      <td>99OBSlFjLXI.002.mp4</td>\n",
       "      <td>Yj36y7ELRZE.000.mp4</td>\n",
       "      <td>LEFT</td>\n",
       "      <td>RIGHT</td>\n",
       "      <td>RIGHT</td>\n",
       "      <td>RIGHT</td>\n",
       "      <td>RIGHT</td>\n",
       "      <td>LEFT</td>\n",
       "      <td>videoPairs/pair85.mp4</td>\n",
       "    </tr>\n",
       "    <tr>\n",
       "      <th>86</th>\n",
       "      <td>86</td>\n",
       "      <td>167398</td>\n",
       "      <td>371Q3BEXDI9BN8Q4M1P6XJQB38HZSR</td>\n",
       "      <td>nKLhatlbqEw.002.mp4</td>\n",
       "      <td>OugdInDyt9s.004.mp4</td>\n",
       "      <td>DON'T KNOW</td>\n",
       "      <td>DON'T KNOW</td>\n",
       "      <td>LEFT</td>\n",
       "      <td>DON'T KNOW</td>\n",
       "      <td>LEFT</td>\n",
       "      <td>LEFT</td>\n",
       "      <td>videoPairs/pair86.mp4</td>\n",
       "    </tr>\n",
       "    <tr>\n",
       "      <th>87</th>\n",
       "      <td>87</td>\n",
       "      <td>44073</td>\n",
       "      <td>36KM3FWE3SCS2P0MU4E3WTRTYMO07E</td>\n",
       "      <td>xsLvl2qGrxU.000.mp4</td>\n",
       "      <td>m0tNIKbEwHE.003.mp4</td>\n",
       "      <td>LEFT</td>\n",
       "      <td>LEFT</td>\n",
       "      <td>DON'T KNOW</td>\n",
       "      <td>RIGHT</td>\n",
       "      <td>DON'T KNOW</td>\n",
       "      <td>LEFT</td>\n",
       "      <td>videoPairs/pair87.mp4</td>\n",
       "    </tr>\n",
       "    <tr>\n",
       "      <th>88</th>\n",
       "      <td>88</td>\n",
       "      <td>106470</td>\n",
       "      <td>31S7M7DAGHQSXJMFW03NZ9BZQJ7LT5</td>\n",
       "      <td>FGkS4vJYOpM.001.mp4</td>\n",
       "      <td>44rxmXiga90.005.mp4</td>\n",
       "      <td>LEFT</td>\n",
       "      <td>RIGHT</td>\n",
       "      <td>LEFT</td>\n",
       "      <td>RIGHT</td>\n",
       "      <td>RIGHT</td>\n",
       "      <td>LEFT</td>\n",
       "      <td>videoPairs/pair88.mp4</td>\n",
       "    </tr>\n",
       "    <tr>\n",
       "      <th>89</th>\n",
       "      <td>89</td>\n",
       "      <td>80370</td>\n",
       "      <td>3O2Y2UIUCRU7U8MWGGMX35JJAB5FK1</td>\n",
       "      <td>zT_s9X21gAE.003.mp4</td>\n",
       "      <td>A4zSLp-1gps.001.mp4</td>\n",
       "      <td>DON'T KNOW</td>\n",
       "      <td>RIGHT</td>\n",
       "      <td>RIGHT</td>\n",
       "      <td>LEFT</td>\n",
       "      <td>DON'T KNOW</td>\n",
       "      <td>RIGHT</td>\n",
       "      <td>videoPairs/pair89.mp4</td>\n",
       "    </tr>\n",
       "    <tr>\n",
       "      <th>90</th>\n",
       "      <td>90</td>\n",
       "      <td>143646</td>\n",
       "      <td>34HEO7RUG7UYLLIJVK92QGU68C0AR4</td>\n",
       "      <td>YXz6s1XNOLs.002.mp4</td>\n",
       "      <td>okdZnQbLnf8.004.mp4</td>\n",
       "      <td>DON'T KNOW</td>\n",
       "      <td>DON'T KNOW</td>\n",
       "      <td>LEFT</td>\n",
       "      <td>RIGHT</td>\n",
       "      <td>DON'T KNOW</td>\n",
       "      <td>RIGHT</td>\n",
       "      <td>videoPairs/pair90.mp4</td>\n",
       "    </tr>\n",
       "    <tr>\n",
       "      <th>91</th>\n",
       "      <td>91</td>\n",
       "      <td>37003</td>\n",
       "      <td>3KG2UQJ0MKO5T3X8R9P77W41B6GQN4</td>\n",
       "      <td>BgfYyUAoNPs.002.mp4</td>\n",
       "      <td>BjQ95T-Dw1U.000.mp4</td>\n",
       "      <td>RIGHT</td>\n",
       "      <td>RIGHT</td>\n",
       "      <td>DON'T KNOW</td>\n",
       "      <td>DON'T KNOW</td>\n",
       "      <td>DON'T KNOW</td>\n",
       "      <td>RIGHT</td>\n",
       "      <td>videoPairs/pair91.mp4</td>\n",
       "    </tr>\n",
       "    <tr>\n",
       "      <th>92</th>\n",
       "      <td>92</td>\n",
       "      <td>179043</td>\n",
       "      <td>36QZ6V158ADU19WUGEQYGRBW1QBSU4</td>\n",
       "      <td>CwFH8J7smjE.005.mp4</td>\n",
       "      <td>xgRqkTXmZko.000.mp4</td>\n",
       "      <td>DON'T KNOW</td>\n",
       "      <td>LEFT</td>\n",
       "      <td>LEFT</td>\n",
       "      <td>RIGHT</td>\n",
       "      <td>DON'T KNOW</td>\n",
       "      <td>LEFT</td>\n",
       "      <td>videoPairs/pair92.mp4</td>\n",
       "    </tr>\n",
       "    <tr>\n",
       "      <th>93</th>\n",
       "      <td>93</td>\n",
       "      <td>199930</td>\n",
       "      <td>3E9ZFLPWOZSXOZNTG777WW4DM1CIXY</td>\n",
       "      <td>8AnIttmflwI.002.mp4</td>\n",
       "      <td>2mfmw63l88g.000.mp4</td>\n",
       "      <td>LEFT</td>\n",
       "      <td>LEFT</td>\n",
       "      <td>RIGHT</td>\n",
       "      <td>RIGHT</td>\n",
       "      <td>LEFT</td>\n",
       "      <td>DON'T KNOW</td>\n",
       "      <td>videoPairs/pair93.mp4</td>\n",
       "    </tr>\n",
       "    <tr>\n",
       "      <th>94</th>\n",
       "      <td>94</td>\n",
       "      <td>120849</td>\n",
       "      <td>3EQVJH0T41LQBN3P5FOP7HIS91PHTJ</td>\n",
       "      <td>As93GgkTdt4.005.mp4</td>\n",
       "      <td>PuVy3akfzNI.002.mp4</td>\n",
       "      <td>RIGHT</td>\n",
       "      <td>DON'T KNOW</td>\n",
       "      <td>LEFT</td>\n",
       "      <td>DON'T KNOW</td>\n",
       "      <td>DON'T KNOW</td>\n",
       "      <td>DON'T KNOW</td>\n",
       "      <td>videoPairs/pair94.mp4</td>\n",
       "    </tr>\n",
       "    <tr>\n",
       "      <th>95</th>\n",
       "      <td>95</td>\n",
       "      <td>82246</td>\n",
       "      <td>3QGHA0EA0K08CR4X0SJ48QMTIKOBWD</td>\n",
       "      <td>KLY518hfGhU.004.mp4</td>\n",
       "      <td>fDw_PAgW07o.004.mp4</td>\n",
       "      <td>LEFT</td>\n",
       "      <td>RIGHT</td>\n",
       "      <td>RIGHT</td>\n",
       "      <td>LEFT</td>\n",
       "      <td>LEFT</td>\n",
       "      <td>DON'T KNOW</td>\n",
       "      <td>videoPairs/pair95.mp4</td>\n",
       "    </tr>\n",
       "    <tr>\n",
       "      <th>96</th>\n",
       "      <td>96</td>\n",
       "      <td>134798</td>\n",
       "      <td>3E9VAUV7BXE7IMU59F1WYCN3B8SYAP</td>\n",
       "      <td>Lq4uvcHNiy8.003.mp4</td>\n",
       "      <td>5z4G0biL9B4.003.mp4</td>\n",
       "      <td>LEFT</td>\n",
       "      <td>RIGHT</td>\n",
       "      <td>LEFT</td>\n",
       "      <td>LEFT</td>\n",
       "      <td>DON'T KNOW</td>\n",
       "      <td>DON'T KNOW</td>\n",
       "      <td>videoPairs/pair96.mp4</td>\n",
       "    </tr>\n",
       "    <tr>\n",
       "      <th>97</th>\n",
       "      <td>97</td>\n",
       "      <td>180843</td>\n",
       "      <td>3TC2K6WK9H23YD8JJWANTHG36VS82P</td>\n",
       "      <td>9sfpnlBRCl0.000.mp4</td>\n",
       "      <td>Qzu9b49qvKo.000.mp4</td>\n",
       "      <td>RIGHT</td>\n",
       "      <td>LEFT</td>\n",
       "      <td>RIGHT</td>\n",
       "      <td>RIGHT</td>\n",
       "      <td>DON'T KNOW</td>\n",
       "      <td>RIGHT</td>\n",
       "      <td>videoPairs/pair97.mp4</td>\n",
       "    </tr>\n",
       "    <tr>\n",
       "      <th>98</th>\n",
       "      <td>98</td>\n",
       "      <td>147047</td>\n",
       "      <td>34YWR3PJ29AMH46DCHI1QS4H07BX0Y</td>\n",
       "      <td>NpiglwrZzsA.001.mp4</td>\n",
       "      <td>oJPdfhG4hT0.001.mp4</td>\n",
       "      <td>RIGHT</td>\n",
       "      <td>RIGHT</td>\n",
       "      <td>DON'T KNOW</td>\n",
       "      <td>RIGHT</td>\n",
       "      <td>DON'T KNOW</td>\n",
       "      <td>RIGHT</td>\n",
       "      <td>videoPairs/pair98.mp4</td>\n",
       "    </tr>\n",
       "    <tr>\n",
       "      <th>99</th>\n",
       "      <td>99</td>\n",
       "      <td>21234</td>\n",
       "      <td>3S8A4GJRD43PRQNXERX0B8HNX7U6VQ</td>\n",
       "      <td>7ZnijRlK5-E.000.mp4</td>\n",
       "      <td>zEyRyTnIw5I.004.mp4</td>\n",
       "      <td>DON'T KNOW</td>\n",
       "      <td>LEFT</td>\n",
       "      <td>RIGHT</td>\n",
       "      <td>DON'T KNOW</td>\n",
       "      <td>RIGHT</td>\n",
       "      <td>RIGHT</td>\n",
       "      <td>videoPairs/pair99.mp4</td>\n",
       "    </tr>\n",
       "  </tbody>\n",
       "</table>\n",
       "<p>100 rows × 12 columns</p>\n",
       "</div>"
      ],
      "text/plain": [
       "    Unnamed: 0  Unnamed: 0.1                          hit_id  \\\n",
       "0            0        122098  33NOQL7T9PZT4OBV83J1GSQARELZ82   \n",
       "1            1          4138  3R15W654VETF53UNFW9SU40C61PLQM   \n",
       "2            2        154265  3ZURAPD289N5O70A86GFYQNK1UR1FK   \n",
       "3            3        165468  3I6NF2WGIHWAQPXOKDO9J10DEYEG5G   \n",
       "4            4         57270  3W31J70BATW0RW2MPEWWVZYGDVVCKZ   \n",
       "5            5        137816  39N6W9XWREN8SD78VFT6UYY6937GYL   \n",
       "6            6        106793  3CVDZS288I02KWMZ1SZDIIBNZFPMF0   \n",
       "7            7        131070  3N3WJQXELTQYDKS2DLJRYM29Q5TL2A   \n",
       "8            8         45442  3IKDQS3DQF09L1CYPBBKIJJ3LRWICK   \n",
       "9            9        139753  3G4VVJO6P0GJLLBQUJI2FZXNCFMPK4   \n",
       "10          10        178887  3IKDQS3DQF09L1CYPBBKIJJ3LS2CIM   \n",
       "11          11         76791  3MQKOF1EE3O1RO2HEOAA3GATL4EDWY   \n",
       "12          12         36588  3OEWW2KGQKBTMFTFN2J0MMX7I1WDO1   \n",
       "13          13         43914  3RWO3EJELI9HFKP4M9CKAK1O38ZP1C   \n",
       "14          14        148239  3KTZHH2ONJFT5HCCTET78QU1C14M8R   \n",
       "15          15         70804  3NBFJK3IOIIWYZ36PSK8S704VUQOG2   \n",
       "16          16        182892  3HEADTGN2QSID9LH6F0YM38JTLARVT   \n",
       "17          17        177338  3XD2A6FGFOUWHH8RI3V7KVOIO509ST   \n",
       "18          18         74202  3G9UA71JVWUZ4V18GCO9EY6PXX0J7E   \n",
       "19          19          7770  3TZDZ3Y0JT6WNX9X5KGNOU19YVK91M   \n",
       "20          20        174454  3ZVPAMTJWO3ZVCVMHK1CM2596GARGC   \n",
       "21          21        194697  3909MD9T20H488UMKUBU5A6EQ35FER   \n",
       "22          22          5245  3P4C70TRMSHOSE09C04G0QWA0EHLGS   \n",
       "23          23         69392  36AZSFEYZ50VX24SAIE8MO3FBAVBVA   \n",
       "24          24        140991  3MQY1YVHS4KM0B6QM8UXKJ64E232BA   \n",
       "25          25        183275  3ZLW647WAMVHXG2D7FFR208SQ9232U   \n",
       "26          26         29916  307FVKVSYSF91DIND5158WH6FYO47I   \n",
       "27          27        185994  3K3G488TR3813ER2N9TLDF4FKB8Q5M   \n",
       "28          28         26790  3XAOZ9UYR0R2FWQJMMR9APRY842Q1L   \n",
       "29          29         88047  34YWR3PJ29AMH46DCHI1QS4H0I20XE   \n",
       "..         ...           ...                             ...   \n",
       "70          70         74240  3D17ECOUOFVA8VKHOBFDXHYNYEF13O   \n",
       "71          71        143420  3XUSYT70IU18JY1WLHHPWL1PKPXD0A   \n",
       "72          72        134971  3SR6AEG6W6TMS92JFLBOFYA7O3IYH0   \n",
       "73          73         95319  374UMBUHN6PZUFS9JNAOWQLCWBHCT6   \n",
       "74          74          1897  3D0LPO3EACZWKQO6JY6EZ7780F9YOH   \n",
       "75          75         53327  3Q7TKIAPOUALGUQIAA38U5TDNV8DLZ   \n",
       "76          76        105824  3UAU495MIJSF3H419X9PWM1V42IOUF   \n",
       "77          77         82287  3EGKVCRQFXSC1WZXFT1STN79TSOBYC   \n",
       "78          78        109316  30F94FBDNSKGKA035NETL6FUEPVBTA   \n",
       "79          79        127330  382GHPVPHTRR0UH0BTYFVF5QAXW348   \n",
       "80          80         58486  3XJOUITW8VR3OG2SO5BJGVAT0NNTQR   \n",
       "81          81        149156  3TTPFEFXCUKK9PSD92GWW7QEPKG6HH   \n",
       "82          82        173055  3APP19WN72E69TX2PWYEB7EDATV6GS   \n",
       "83          83        154878  3S37Y8CWI90ORSJOLD9H0CGN8HR4WY   \n",
       "84          84        148495  386T3MLZLOVW23554969ATNO9Y4803   \n",
       "85          85        107195  3CVBMEMMXCG3DP6ISCLO2LQAK587H9   \n",
       "86          86        167398  371Q3BEXDI9BN8Q4M1P6XJQB38HZSR   \n",
       "87          87         44073  36KM3FWE3SCS2P0MU4E3WTRTYMO07E   \n",
       "88          88        106470  31S7M7DAGHQSXJMFW03NZ9BZQJ7LT5   \n",
       "89          89         80370  3O2Y2UIUCRU7U8MWGGMX35JJAB5FK1   \n",
       "90          90        143646  34HEO7RUG7UYLLIJVK92QGU68C0AR4   \n",
       "91          91         37003  3KG2UQJ0MKO5T3X8R9P77W41B6GQN4   \n",
       "92          92        179043  36QZ6V158ADU19WUGEQYGRBW1QBSU4   \n",
       "93          93        199930  3E9ZFLPWOZSXOZNTG777WW4DM1CIXY   \n",
       "94          94        120849  3EQVJH0T41LQBN3P5FOP7HIS91PHTJ   \n",
       "95          95         82246  3QGHA0EA0K08CR4X0SJ48QMTIKOBWD   \n",
       "96          96        134798  3E9VAUV7BXE7IMU59F1WYCN3B8SYAP   \n",
       "97          97        180843  3TC2K6WK9H23YD8JJWANTHG36VS82P   \n",
       "98          98        147047  34YWR3PJ29AMH46DCHI1QS4H07BX0Y   \n",
       "99          99         21234  3S8A4GJRD43PRQNXERX0B8HNX7U6VQ   \n",
       "\n",
       "              videoLeft           videoRight    friendly   authentic  \\\n",
       "0   ZIk7N-xHvF4.004.mp4  io0aNQE8En8.003.mp4        LEFT        LEFT   \n",
       "1   _Py_lytyY5A.005.mp4  j5fXaXrNPoA.003.mp4        LEFT  DON'T KNOW   \n",
       "2   VuadgOz6T7s.000.mp4  vhugKRUnd-c.005.mp4       RIGHT  DON'T KNOW   \n",
       "3   ASDpn9yOYAo.004.mp4  FvjIziLzffo.004.mp4       RIGHT        LEFT   \n",
       "4   tcmYlyeqwuI.002.mp4  sIfHl2N8Hkg.004.mp4  DON'T KNOW       RIGHT   \n",
       "5   NF8nb3SQPNg.002.mp4  jz9kgvYbBYA.005.mp4       RIGHT       RIGHT   \n",
       "6   c2LeNguVNrI.002.mp4  7ZnijRlK5-E.005.mp4        LEFT  DON'T KNOW   \n",
       "7   S1AEj1kO5dc.000.mp4  mpXOSY5dW7c.005.mp4       RIGHT       RIGHT   \n",
       "8   CRLsCyMfskE.003.mp4  FNHMXPaHll0.002.mp4        LEFT        LEFT   \n",
       "9   4nir0YtjHVs.001.mp4  BOOMkDl8JwA.005.mp4       RIGHT       RIGHT   \n",
       "10  RF3JnDmv8WY.005.mp4  YGrCXe2-fVk.004.mp4       RIGHT        LEFT   \n",
       "11  X1kqn3XDFRw.000.mp4  EelHLfeSJfM.004.mp4        LEFT        LEFT   \n",
       "12  9mAw0B-mEPQ.001.mp4  vZPLbzF0aSg.001.mp4        LEFT       RIGHT   \n",
       "13  JFKZEGDhcRs.003.mp4  dNXqs5HNijI.002.mp4       RIGHT        LEFT   \n",
       "14  jnEHHvlBgxE.001.mp4  Etfh8X-ECtY.004.mp4       RIGHT       RIGHT   \n",
       "15  HP8f3oqJwz0.002.mp4  Nv0-x4K9YFI.003.mp4       RIGHT        LEFT   \n",
       "16  ZGox7tevC6A.005.mp4  41NNb7cucVo.003.mp4       RIGHT       RIGHT   \n",
       "17  A3StIKMjn4k.001.mp4  TPRQyuiNYmI.000.mp4       RIGHT        LEFT   \n",
       "18  J4GQm9j0JZ0.005.mp4  GquB5W7bzFo.003.mp4        LEFT        LEFT   \n",
       "19  UvX6ctu2ObM.000.mp4  AlEqtGWa43g.003.mp4       RIGHT       RIGHT   \n",
       "20  tvKUJujTUEo.003.mp4  cgp1OzTOq1o.005.mp4       RIGHT       RIGHT   \n",
       "21  UD-8YYU7GZs.004.mp4  TJD__22fOr0.000.mp4        LEFT        LEFT   \n",
       "22  _QXI4n_FRN4.003.mp4  R-vly7LKotQ.000.mp4       RIGHT       RIGHT   \n",
       "23  vMtF0akNUK4.002.mp4  N7oR6_oMBFk.004.mp4        LEFT  DON'T KNOW   \n",
       "24  AP0aklGHino.000.mp4  F1lAPYh4t3U.000.mp4       RIGHT        LEFT   \n",
       "25  dRP8ZaAryro.004.mp4  xpSCu7PgJts.004.mp4        LEFT        LEFT   \n",
       "26  1q-N_zbsAg0.005.mp4  KIhpjwf5uAA.001.mp4       RIGHT       RIGHT   \n",
       "27  LNM1i-a9q_A.004.mp4  oU7zAWm_01o.002.mp4       RIGHT       RIGHT   \n",
       "28  XpY-cxkbYdo.005.mp4  EjhDyc8Oc6k.004.mp4        LEFT        LEFT   \n",
       "29  SI93csgHMTk.004.mp4  04oq2yrBwMg.004.mp4  DON'T KNOW  DON'T KNOW   \n",
       "..                  ...                  ...         ...         ...   \n",
       "70  p6UMx8dwHZQ.003.mp4  sDWJMBZ1mVA.003.mp4        LEFT       RIGHT   \n",
       "71  nex61B854Ms.004.mp4  gZzB49daFfA.000.mp4        LEFT        LEFT   \n",
       "72  KIhpjwf5uAA.003.mp4  t30ERiF6b50.001.mp4        LEFT       RIGHT   \n",
       "73  _IS6GFmQYj4.003.mp4  sDWJMBZ1mVA.004.mp4        LEFT  DON'T KNOW   \n",
       "74  cZ6xhB5yhfY.001.mp4  -VTqcHNgH7M.001.mp4       RIGHT  DON'T KNOW   \n",
       "75  cT3oyHhUznw.000.mp4  jTkEWnuDnbA.001.mp4       RIGHT        LEFT   \n",
       "76  dl9IT3OvI0o.000.mp4  R-vly7LKotQ.002.mp4  DON'T KNOW  DON'T KNOW   \n",
       "77  Sdqg-jn_tBk.005.mp4  sf29orxf4X0.005.mp4       RIGHT  DON'T KNOW   \n",
       "78  8AnIttmflwI.000.mp4  7PYAn9njCHI.000.mp4       RIGHT  DON'T KNOW   \n",
       "79  Gg4OMtVe7lk.002.mp4  QNVsr2mGwGs.002.mp4       RIGHT       RIGHT   \n",
       "80  qoZwA4ESb7g.003.mp4  1cqwKxx6GF8.005.mp4        LEFT  DON'T KNOW   \n",
       "81  9RfE2-aTvaM.005.mp4  3JzvXA-Zfbs.004.mp4  DON'T KNOW        LEFT   \n",
       "82  xq0-QVHxp-Q.003.mp4  knK0zyX8bS4.004.mp4  DON'T KNOW       RIGHT   \n",
       "83  fiVORaERbP0.000.mp4  TmpP2fXeVtk.005.mp4       RIGHT       RIGHT   \n",
       "84  YygvfVxOWP8.004.mp4  6JfSPPVUgIg.000.mp4        LEFT  DON'T KNOW   \n",
       "85  99OBSlFjLXI.002.mp4  Yj36y7ELRZE.000.mp4        LEFT       RIGHT   \n",
       "86  nKLhatlbqEw.002.mp4  OugdInDyt9s.004.mp4  DON'T KNOW  DON'T KNOW   \n",
       "87  xsLvl2qGrxU.000.mp4  m0tNIKbEwHE.003.mp4        LEFT        LEFT   \n",
       "88  FGkS4vJYOpM.001.mp4  44rxmXiga90.005.mp4        LEFT       RIGHT   \n",
       "89  zT_s9X21gAE.003.mp4  A4zSLp-1gps.001.mp4  DON'T KNOW       RIGHT   \n",
       "90  YXz6s1XNOLs.002.mp4  okdZnQbLnf8.004.mp4  DON'T KNOW  DON'T KNOW   \n",
       "91  BgfYyUAoNPs.002.mp4  BjQ95T-Dw1U.000.mp4       RIGHT       RIGHT   \n",
       "92  CwFH8J7smjE.005.mp4  xgRqkTXmZko.000.mp4  DON'T KNOW        LEFT   \n",
       "93  8AnIttmflwI.002.mp4  2mfmw63l88g.000.mp4        LEFT        LEFT   \n",
       "94  As93GgkTdt4.005.mp4  PuVy3akfzNI.002.mp4       RIGHT  DON'T KNOW   \n",
       "95  KLY518hfGhU.004.mp4  fDw_PAgW07o.004.mp4        LEFT       RIGHT   \n",
       "96  Lq4uvcHNiy8.003.mp4  5z4G0biL9B4.003.mp4        LEFT       RIGHT   \n",
       "97  9sfpnlBRCl0.000.mp4  Qzu9b49qvKo.000.mp4       RIGHT        LEFT   \n",
       "98  NpiglwrZzsA.001.mp4  oJPdfhG4hT0.001.mp4       RIGHT       RIGHT   \n",
       "99  7ZnijRlK5-E.000.mp4  zEyRyTnIw5I.004.mp4  DON'T KNOW        LEFT   \n",
       "\n",
       "     organized comfortable imaginative   interview              videoPair  \n",
       "0         LEFT        LEFT        LEFT        LEFT   videoPairs/pair0.mp4  \n",
       "1        RIGHT  DON'T KNOW        LEFT       RIGHT   videoPairs/pair1.mp4  \n",
       "2        RIGHT       RIGHT  DON'T KNOW       RIGHT   videoPairs/pair2.mp4  \n",
       "3        RIGHT        LEFT       RIGHT       RIGHT   videoPairs/pair3.mp4  \n",
       "4         LEFT        LEFT       RIGHT  DON'T KNOW   videoPairs/pair4.mp4  \n",
       "5        RIGHT       RIGHT       RIGHT       RIGHT   videoPairs/pair5.mp4  \n",
       "6        RIGHT       RIGHT  DON'T KNOW        LEFT   videoPairs/pair6.mp4  \n",
       "7        RIGHT  DON'T KNOW  DON'T KNOW       RIGHT   videoPairs/pair7.mp4  \n",
       "8        RIGHT        LEFT       RIGHT        LEFT   videoPairs/pair8.mp4  \n",
       "9         LEFT        LEFT        LEFT        LEFT   videoPairs/pair9.mp4  \n",
       "10       RIGHT       RIGHT        LEFT       RIGHT  videoPairs/pair10.mp4  \n",
       "11        LEFT        LEFT       RIGHT        LEFT  videoPairs/pair11.mp4  \n",
       "12        LEFT        LEFT  DON'T KNOW        LEFT  videoPairs/pair12.mp4  \n",
       "13       RIGHT       RIGHT       RIGHT        LEFT  videoPairs/pair13.mp4  \n",
       "14       RIGHT       RIGHT  DON'T KNOW       RIGHT  videoPairs/pair14.mp4  \n",
       "15        LEFT       RIGHT       RIGHT        LEFT  videoPairs/pair15.mp4  \n",
       "16       RIGHT        LEFT        LEFT       RIGHT  videoPairs/pair16.mp4  \n",
       "17        LEFT  DON'T KNOW       RIGHT        LEFT  videoPairs/pair17.mp4  \n",
       "18        LEFT  DON'T KNOW  DON'T KNOW        LEFT  videoPairs/pair18.mp4  \n",
       "19       RIGHT       RIGHT        LEFT       RIGHT  videoPairs/pair19.mp4  \n",
       "20  DON'T KNOW  DON'T KNOW        LEFT       RIGHT  videoPairs/pair20.mp4  \n",
       "21       RIGHT        LEFT        LEFT  DON'T KNOW  videoPairs/pair21.mp4  \n",
       "22        LEFT       RIGHT       RIGHT       RIGHT  videoPairs/pair22.mp4  \n",
       "23       RIGHT        LEFT  DON'T KNOW       RIGHT  videoPairs/pair23.mp4  \n",
       "24        LEFT       RIGHT        LEFT        LEFT  videoPairs/pair24.mp4  \n",
       "25       RIGHT        LEFT        LEFT        LEFT  videoPairs/pair25.mp4  \n",
       "26        LEFT       RIGHT        LEFT       RIGHT  videoPairs/pair26.mp4  \n",
       "27        LEFT  DON'T KNOW       RIGHT       RIGHT  videoPairs/pair27.mp4  \n",
       "28  DON'T KNOW        LEFT  DON'T KNOW       RIGHT  videoPairs/pair28.mp4  \n",
       "29  DON'T KNOW  DON'T KNOW  DON'T KNOW  DON'T KNOW  videoPairs/pair29.mp4  \n",
       "..         ...         ...         ...         ...                    ...  \n",
       "70        LEFT       RIGHT        LEFT        LEFT  videoPairs/pair70.mp4  \n",
       "71        LEFT       RIGHT       RIGHT  DON'T KNOW  videoPairs/pair71.mp4  \n",
       "72        LEFT        LEFT        LEFT       RIGHT  videoPairs/pair72.mp4  \n",
       "73  DON'T KNOW        LEFT  DON'T KNOW        LEFT  videoPairs/pair73.mp4  \n",
       "74        LEFT  DON'T KNOW       RIGHT       RIGHT  videoPairs/pair74.mp4  \n",
       "75       RIGHT  DON'T KNOW  DON'T KNOW       RIGHT  videoPairs/pair75.mp4  \n",
       "76       RIGHT        LEFT        LEFT  DON'T KNOW  videoPairs/pair76.mp4  \n",
       "77        LEFT       RIGHT        LEFT  DON'T KNOW  videoPairs/pair77.mp4  \n",
       "78       RIGHT       RIGHT       RIGHT       RIGHT  videoPairs/pair78.mp4  \n",
       "79       RIGHT       RIGHT       RIGHT  DON'T KNOW  videoPairs/pair79.mp4  \n",
       "80  DON'T KNOW        LEFT        LEFT        LEFT  videoPairs/pair80.mp4  \n",
       "81  DON'T KNOW        LEFT       RIGHT  DON'T KNOW  videoPairs/pair81.mp4  \n",
       "82        LEFT  DON'T KNOW  DON'T KNOW  DON'T KNOW  videoPairs/pair82.mp4  \n",
       "83  DON'T KNOW        LEFT  DON'T KNOW       RIGHT  videoPairs/pair83.mp4  \n",
       "84        LEFT        LEFT  DON'T KNOW       RIGHT  videoPairs/pair84.mp4  \n",
       "85       RIGHT       RIGHT       RIGHT        LEFT  videoPairs/pair85.mp4  \n",
       "86        LEFT  DON'T KNOW        LEFT        LEFT  videoPairs/pair86.mp4  \n",
       "87  DON'T KNOW       RIGHT  DON'T KNOW        LEFT  videoPairs/pair87.mp4  \n",
       "88        LEFT       RIGHT       RIGHT        LEFT  videoPairs/pair88.mp4  \n",
       "89       RIGHT        LEFT  DON'T KNOW       RIGHT  videoPairs/pair89.mp4  \n",
       "90        LEFT       RIGHT  DON'T KNOW       RIGHT  videoPairs/pair90.mp4  \n",
       "91  DON'T KNOW  DON'T KNOW  DON'T KNOW       RIGHT  videoPairs/pair91.mp4  \n",
       "92        LEFT       RIGHT  DON'T KNOW        LEFT  videoPairs/pair92.mp4  \n",
       "93       RIGHT       RIGHT        LEFT  DON'T KNOW  videoPairs/pair93.mp4  \n",
       "94        LEFT  DON'T KNOW  DON'T KNOW  DON'T KNOW  videoPairs/pair94.mp4  \n",
       "95       RIGHT        LEFT        LEFT  DON'T KNOW  videoPairs/pair95.mp4  \n",
       "96        LEFT        LEFT  DON'T KNOW  DON'T KNOW  videoPairs/pair96.mp4  \n",
       "97       RIGHT       RIGHT  DON'T KNOW       RIGHT  videoPairs/pair97.mp4  \n",
       "98  DON'T KNOW       RIGHT  DON'T KNOW       RIGHT  videoPairs/pair98.mp4  \n",
       "99       RIGHT  DON'T KNOW       RIGHT       RIGHT  videoPairs/pair99.mp4  \n",
       "\n",
       "[100 rows x 12 columns]"
      ]
     },
     "execution_count": 27,
     "metadata": {},
     "output_type": "execute_result"
    }
   ],
   "source": [
    "DF100"
   ]
  },
  {
   "cell_type": "code",
   "execution_count": null,
   "metadata": {},
   "outputs": [],
   "source": []
  }
 ],
 "metadata": {
  "kernelspec": {
   "display_name": "Python 2",
   "language": "python",
   "name": "python2"
  },
  "language_info": {
   "codemirror_mode": {
    "name": "ipython",
    "version": 2
   },
   "file_extension": ".py",
   "mimetype": "text/x-python",
   "name": "python",
   "nbconvert_exporter": "python",
   "pygments_lexer": "ipython2",
   "version": "2.7.15"
  }
 },
 "nbformat": 4,
 "nbformat_minor": 2
}
